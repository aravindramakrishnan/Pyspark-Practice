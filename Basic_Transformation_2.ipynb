{
 "cells": [
  {
   "cell_type": "code",
   "execution_count": 1,
   "id": "065160cd-4c47-4fe0-a5ef-5ca6cefa70a6",
   "metadata": {},
   "outputs": [],
   "source": [
    "from pyspark.sql import SparkSession\n",
    "\n",
    "spark = SparkSession.builder.appName(\"Basic_Transformation_2\").master(\"local[*]\").getOrCreate()"
   ]
  },
  {
   "cell_type": "code",
   "execution_count": 2,
   "id": "fcfc62cd-493c-47af-a7c5-61e00498e959",
   "metadata": {},
   "outputs": [
    {
     "data": {
      "text/html": [
       "\n",
       "            <div>\n",
       "                <p><b>SparkSession - in-memory</b></p>\n",
       "                \n",
       "        <div>\n",
       "            <p><b>SparkContext</b></p>\n",
       "\n",
       "            <p><a href=\"http://AravindRamakrishnan:4042\">Spark UI</a></p>\n",
       "\n",
       "            <dl>\n",
       "              <dt>Version</dt>\n",
       "                <dd><code>v3.5.1</code></dd>\n",
       "              <dt>Master</dt>\n",
       "                <dd><code>local[*]</code></dd>\n",
       "              <dt>AppName</dt>\n",
       "                <dd><code>Basic_Transformation_2</code></dd>\n",
       "            </dl>\n",
       "        </div>\n",
       "        \n",
       "            </div>\n",
       "        "
      ],
      "text/plain": [
       "<pyspark.sql.session.SparkSession at 0x21fff78d690>"
      ]
     },
     "execution_count": 2,
     "metadata": {},
     "output_type": "execute_result"
    }
   ],
   "source": [
    "spark"
   ]
  },
  {
   "cell_type": "code",
   "execution_count": 3,
   "id": "816e96a8-25ac-41df-a0cd-6867f49d2e66",
   "metadata": {},
   "outputs": [],
   "source": [
    "# Emp Data & Schema\n",
    "\n",
    "emp_data = [\n",
    "    [\"001\",\"101\",\"John Doe\",\"30\",\"Male\",\"50000\",\"2015-01-01\"],\n",
    "    [\"002\",\"101\",\"Jane Smith\",\"25\",\"Female\",\"45000\",\"2016-02-15\"],\n",
    "    [\"003\",\"102\",\"Bob Brown\",\"35\",\"Male\",\"55000\",\"2014-05-01\"],\n",
    "    [\"004\",\"102\",\"Alice Lee\",\"28\",\"Female\",\"48000\",\"2017-09-30\"],\n",
    "    [\"005\",\"103\",\"Jack Chan\",\"40\",\"Male\",\"60000\",\"2013-04-01\"],\n",
    "    [\"006\",\"103\",\"Jill Wong\",\"32\",\"Female\",\"52000\",\"2018-07-01\"],\n",
    "    [\"007\",\"101\",\"James Johnson\",\"42\",\"Male\",\"70000\",\"2012-03-15\"],\n",
    "    [\"008\",\"102\",\"Kate Kim\",\"29\",\"Female\",\"51000\",\"2019-10-01\"],\n",
    "    [\"009\",\"103\",\"Tom Tan\",\"33\",\"Male\",\"58000\",\"2016-06-01\"],\n",
    "    [\"010\",\"104\",\"Lisa Lee\",\"27\",\"Female\",\"47000\",\"2018-08-01\"],\n",
    "    [\"011\",\"104\",\"David Park\",\"38\",\"Male\",\"65000\",\"2015-11-01\"],\n",
    "    [\"012\",\"105\",\"Susan Chen\",\"31\",\"Female\",\"54000\",\"2017-02-15\"],\n",
    "    [\"013\",\"106\",\"Brian Kim\",\"45\",\"Male\",\"75000\",\"2011-07-01\"],\n",
    "    [\"014\",\"107\",\"Emily Lee\",\"26\",\"Female\",\"46000\",\"2019-01-01\"],\n",
    "    [\"015\",\"106\",\"Michael Lee\",\"37\",\"Male\",\"63000\",\"2014-09-30\"],\n",
    "    [\"016\",\"107\",\"Kelly Zhang\",\"30\",\"Female\",\"49000\",\"2018-04-01\"],\n",
    "    [\"017\",\"105\",\"George Wang\",\"34\",\"Male\",\"57000\",\"2016-03-15\"],\n",
    "    [\"018\",\"104\",\"Nancy Liu\",\"29\",\"Female\",\"50000\",\"2017-06-01\"],\n",
    "    [\"019\",\"103\",\"Steven Chen\",\"36\",\"Male\",\"62000\",\"2015-08-01\"],\n",
    "    [\"020\",\"102\",\"Grace Kim\",\"32\",\"Female\",\"53000\",\"2018-11-01\"]\n",
    "]\n",
    "\n",
    "emp_schema = \"employee_id string, department_id string, name string, age string, gender string, salary string, hire_date string\""
   ]
  },
  {
   "cell_type": "code",
   "execution_count": 4,
   "id": "8fe12457-f63d-4cc5-9322-21dc3a6ab9ac",
   "metadata": {},
   "outputs": [],
   "source": [
    "emp = spark.createDataFrame(emp_data, schema=emp_schema)"
   ]
  },
  {
   "cell_type": "code",
   "execution_count": 5,
   "id": "6f2f2817-cbae-4257-af92-00f47829e059",
   "metadata": {},
   "outputs": [
    {
     "name": "stdout",
     "output_type": "stream",
     "text": [
      "root\n",
      " |-- employee_id: string (nullable = true)\n",
      " |-- department_id: string (nullable = true)\n",
      " |-- name: string (nullable = true)\n",
      " |-- age: string (nullable = true)\n",
      " |-- gender: string (nullable = true)\n",
      " |-- salary: string (nullable = true)\n",
      " |-- hire_date: string (nullable = true)\n",
      "\n"
     ]
    }
   ],
   "source": [
    "emp.printSchema()"
   ]
  },
  {
   "cell_type": "code",
   "execution_count": 6,
   "id": "001ded33-2ac3-4d4d-b56f-8d1f4d875c56",
   "metadata": {},
   "outputs": [
    {
     "name": "stdout",
     "output_type": "stream",
     "text": [
      "+-----------+-------------+-------------+---+------+------+----------+\n",
      "|employee_id|department_id|         name|age|gender|salary| hire_date|\n",
      "+-----------+-------------+-------------+---+------+------+----------+\n",
      "|        001|          101|     John Doe| 30|  Male| 50000|2015-01-01|\n",
      "|        002|          101|   Jane Smith| 25|Female| 45000|2016-02-15|\n",
      "|        003|          102|    Bob Brown| 35|  Male| 55000|2014-05-01|\n",
      "|        004|          102|    Alice Lee| 28|Female| 48000|2017-09-30|\n",
      "|        005|          103|    Jack Chan| 40|  Male| 60000|2013-04-01|\n",
      "|        006|          103|    Jill Wong| 32|Female| 52000|2018-07-01|\n",
      "|        007|          101|James Johnson| 42|  Male| 70000|2012-03-15|\n",
      "|        008|          102|     Kate Kim| 29|Female| 51000|2019-10-01|\n",
      "|        009|          103|      Tom Tan| 33|  Male| 58000|2016-06-01|\n",
      "|        010|          104|     Lisa Lee| 27|Female| 47000|2018-08-01|\n",
      "|        011|          104|   David Park| 38|  Male| 65000|2015-11-01|\n",
      "|        012|          105|   Susan Chen| 31|Female| 54000|2017-02-15|\n",
      "|        013|          106|    Brian Kim| 45|  Male| 75000|2011-07-01|\n",
      "|        014|          107|    Emily Lee| 26|Female| 46000|2019-01-01|\n",
      "|        015|          106|  Michael Lee| 37|  Male| 63000|2014-09-30|\n",
      "|        016|          107|  Kelly Zhang| 30|Female| 49000|2018-04-01|\n",
      "|        017|          105|  George Wang| 34|  Male| 57000|2016-03-15|\n",
      "|        018|          104|    Nancy Liu| 29|Female| 50000|2017-06-01|\n",
      "|        019|          103|  Steven Chen| 36|  Male| 62000|2015-08-01|\n",
      "|        020|          102|    Grace Kim| 32|Female| 53000|2018-11-01|\n",
      "+-----------+-------------+-------------+---+------+------+----------+\n",
      "\n"
     ]
    }
   ],
   "source": [
    "emp.show()"
   ]
  },
  {
   "cell_type": "code",
   "execution_count": 7,
   "id": "3811b3ab-a8d5-4033-b8f6-e9caa86ae905",
   "metadata": {},
   "outputs": [],
   "source": [
    "# Casting Column\n",
    "# select employee_id, name, age, cast(salary as double) as salary from emp\n",
    "\n",
    "from pyspark.sql.functions import col, cast\n",
    "emp_casted = emp.select(\"employee_id\", \"name\", \"age\", col(\"salary\").cast(\"double\"))"
   ]
  },
  {
   "cell_type": "code",
   "execution_count": 8,
   "id": "ab58c16a-b3c6-497a-872f-730f4e57185c",
   "metadata": {},
   "outputs": [
    {
     "name": "stdout",
     "output_type": "stream",
     "text": [
      "root\n",
      " |-- employee_id: string (nullable = true)\n",
      " |-- name: string (nullable = true)\n",
      " |-- age: string (nullable = true)\n",
      " |-- salary: double (nullable = true)\n",
      "\n"
     ]
    }
   ],
   "source": [
    "emp_casted.printSchema()"
   ]
  },
  {
   "cell_type": "code",
   "execution_count": 9,
   "id": "671163b1-ceb9-4a8a-a9c9-1fba8e4f6b36",
   "metadata": {},
   "outputs": [],
   "source": [
    "# Adding Columns\n",
    "# select employee_id, name, age, salary, (salary * 0.2) as tax from emp_casted\n",
    "\n",
    "emp_taxed = emp_casted.withColumn(\"tax\", col(\"salary\") * 0.2)"
   ]
  },
  {
   "cell_type": "code",
   "execution_count": 10,
   "id": "1ba64809-2a47-4bb3-ae2a-206ee548426a",
   "metadata": {},
   "outputs": [
    {
     "name": "stdout",
     "output_type": "stream",
     "text": [
      "+-----------+-------------+---+-------+-------+\n",
      "|employee_id|         name|age| salary|    tax|\n",
      "+-----------+-------------+---+-------+-------+\n",
      "|        001|     John Doe| 30|50000.0|10000.0|\n",
      "|        002|   Jane Smith| 25|45000.0| 9000.0|\n",
      "|        003|    Bob Brown| 35|55000.0|11000.0|\n",
      "|        004|    Alice Lee| 28|48000.0| 9600.0|\n",
      "|        005|    Jack Chan| 40|60000.0|12000.0|\n",
      "|        006|    Jill Wong| 32|52000.0|10400.0|\n",
      "|        007|James Johnson| 42|70000.0|14000.0|\n",
      "|        008|     Kate Kim| 29|51000.0|10200.0|\n",
      "|        009|      Tom Tan| 33|58000.0|11600.0|\n",
      "|        010|     Lisa Lee| 27|47000.0| 9400.0|\n",
      "|        011|   David Park| 38|65000.0|13000.0|\n",
      "|        012|   Susan Chen| 31|54000.0|10800.0|\n",
      "|        013|    Brian Kim| 45|75000.0|15000.0|\n",
      "|        014|    Emily Lee| 26|46000.0| 9200.0|\n",
      "|        015|  Michael Lee| 37|63000.0|12600.0|\n",
      "|        016|  Kelly Zhang| 30|49000.0| 9800.0|\n",
      "|        017|  George Wang| 34|57000.0|11400.0|\n",
      "|        018|    Nancy Liu| 29|50000.0|10000.0|\n",
      "|        019|  Steven Chen| 36|62000.0|12400.0|\n",
      "|        020|    Grace Kim| 32|53000.0|10600.0|\n",
      "+-----------+-------------+---+-------+-------+\n",
      "\n"
     ]
    }
   ],
   "source": [
    "emp_taxed.show()"
   ]
  },
  {
   "cell_type": "code",
   "execution_count": 11,
   "id": "d70fbce1-7c7b-4a2f-9c1e-5d9c1577d01a",
   "metadata": {},
   "outputs": [],
   "source": [
    "# Literals\n",
    "# select employee_id, name, age, salary, tax, 1 as columnOne, 'two' as columnTwo from emp_taxed\n",
    "from pyspark.sql.functions import lit\n",
    "\n",
    "emp_new_cols = emp_taxed.withColumn(\"columnOne\", lit(1)).withColumn(\"columnTwo\", lit(\"two\"))"
   ]
  },
  {
   "cell_type": "code",
   "execution_count": 12,
   "id": "2e22ed9e-5657-4b19-88d2-d6fb5a63b8d3",
   "metadata": {},
   "outputs": [
    {
     "name": "stdout",
     "output_type": "stream",
     "text": [
      "+-----------+-------------+---+-------+-------+---------+---------+\n",
      "|employee_id|         name|age| salary|    tax|columnOne|columnTwo|\n",
      "+-----------+-------------+---+-------+-------+---------+---------+\n",
      "|        001|     John Doe| 30|50000.0|10000.0|        1|      two|\n",
      "|        002|   Jane Smith| 25|45000.0| 9000.0|        1|      two|\n",
      "|        003|    Bob Brown| 35|55000.0|11000.0|        1|      two|\n",
      "|        004|    Alice Lee| 28|48000.0| 9600.0|        1|      two|\n",
      "|        005|    Jack Chan| 40|60000.0|12000.0|        1|      two|\n",
      "|        006|    Jill Wong| 32|52000.0|10400.0|        1|      two|\n",
      "|        007|James Johnson| 42|70000.0|14000.0|        1|      two|\n",
      "|        008|     Kate Kim| 29|51000.0|10200.0|        1|      two|\n",
      "|        009|      Tom Tan| 33|58000.0|11600.0|        1|      two|\n",
      "|        010|     Lisa Lee| 27|47000.0| 9400.0|        1|      two|\n",
      "|        011|   David Park| 38|65000.0|13000.0|        1|      two|\n",
      "|        012|   Susan Chen| 31|54000.0|10800.0|        1|      two|\n",
      "|        013|    Brian Kim| 45|75000.0|15000.0|        1|      two|\n",
      "|        014|    Emily Lee| 26|46000.0| 9200.0|        1|      two|\n",
      "|        015|  Michael Lee| 37|63000.0|12600.0|        1|      two|\n",
      "|        016|  Kelly Zhang| 30|49000.0| 9800.0|        1|      two|\n",
      "|        017|  George Wang| 34|57000.0|11400.0|        1|      two|\n",
      "|        018|    Nancy Liu| 29|50000.0|10000.0|        1|      two|\n",
      "|        019|  Steven Chen| 36|62000.0|12400.0|        1|      two|\n",
      "|        020|    Grace Kim| 32|53000.0|10600.0|        1|      two|\n",
      "+-----------+-------------+---+-------+-------+---------+---------+\n",
      "\n"
     ]
    }
   ],
   "source": [
    "emp_new_cols.show()"
   ]
  },
  {
   "cell_type": "code",
   "execution_count": 13,
   "id": "0a24868b-0ae2-48dc-b513-b302f2b052d0",
   "metadata": {},
   "outputs": [],
   "source": [
    "# Renaming Columns\n",
    "# select employee_id as emp_id, name, age, salary, tax, columnOne, columnTwo from emp_new_cols\n",
    "emp_1 = emp_new_cols.withColumnRenamed(\"employee_id\", \"emp_id\")"
   ]
  },
  {
   "cell_type": "code",
   "execution_count": 14,
   "id": "6815c1b9-0850-4d3e-b0de-f9900f83fab5",
   "metadata": {},
   "outputs": [
    {
     "name": "stdout",
     "output_type": "stream",
     "text": [
      "+------+-------------+---+-------+-------+---------+---------+\n",
      "|emp_id|         name|age| salary|    tax|columnOne|columnTwo|\n",
      "+------+-------------+---+-------+-------+---------+---------+\n",
      "|   001|     John Doe| 30|50000.0|10000.0|        1|      two|\n",
      "|   002|   Jane Smith| 25|45000.0| 9000.0|        1|      two|\n",
      "|   003|    Bob Brown| 35|55000.0|11000.0|        1|      two|\n",
      "|   004|    Alice Lee| 28|48000.0| 9600.0|        1|      two|\n",
      "|   005|    Jack Chan| 40|60000.0|12000.0|        1|      two|\n",
      "|   006|    Jill Wong| 32|52000.0|10400.0|        1|      two|\n",
      "|   007|James Johnson| 42|70000.0|14000.0|        1|      two|\n",
      "|   008|     Kate Kim| 29|51000.0|10200.0|        1|      two|\n",
      "|   009|      Tom Tan| 33|58000.0|11600.0|        1|      two|\n",
      "|   010|     Lisa Lee| 27|47000.0| 9400.0|        1|      two|\n",
      "|   011|   David Park| 38|65000.0|13000.0|        1|      two|\n",
      "|   012|   Susan Chen| 31|54000.0|10800.0|        1|      two|\n",
      "|   013|    Brian Kim| 45|75000.0|15000.0|        1|      two|\n",
      "|   014|    Emily Lee| 26|46000.0| 9200.0|        1|      two|\n",
      "|   015|  Michael Lee| 37|63000.0|12600.0|        1|      two|\n",
      "|   016|  Kelly Zhang| 30|49000.0| 9800.0|        1|      two|\n",
      "|   017|  George Wang| 34|57000.0|11400.0|        1|      two|\n",
      "|   018|    Nancy Liu| 29|50000.0|10000.0|        1|      two|\n",
      "|   019|  Steven Chen| 36|62000.0|12400.0|        1|      two|\n",
      "|   020|    Grace Kim| 32|53000.0|10600.0|        1|      two|\n",
      "+------+-------------+---+-------+-------+---------+---------+\n",
      "\n"
     ]
    }
   ],
   "source": [
    "emp_1.show()"
   ]
  },
  {
   "cell_type": "code",
   "execution_count": 16,
   "id": "db4614d7-4e23-4162-8bf1-528a107ee63b",
   "metadata": {},
   "outputs": [],
   "source": [
    "# Column names with Spaces\n",
    "# select employee_id as emp_id, name, age, salary, tax, columnOne, columnTwo as `Column Two` from emp_new_cols\n",
    "emp_2 = emp_new_cols.withColumnRenamed(\"columnTwo\", \"Column Two\")"
   ]
  },
  {
   "cell_type": "code",
   "execution_count": 17,
   "id": "327d023d-a208-4f53-946b-1c5bbc3f7537",
   "metadata": {},
   "outputs": [
    {
     "name": "stdout",
     "output_type": "stream",
     "text": [
      "+-----------+-------------+---+-------+-------+---------+----------+\n",
      "|employee_id|         name|age| salary|    tax|columnOne|Column Two|\n",
      "+-----------+-------------+---+-------+-------+---------+----------+\n",
      "|        001|     John Doe| 30|50000.0|10000.0|        1|       two|\n",
      "|        002|   Jane Smith| 25|45000.0| 9000.0|        1|       two|\n",
      "|        003|    Bob Brown| 35|55000.0|11000.0|        1|       two|\n",
      "|        004|    Alice Lee| 28|48000.0| 9600.0|        1|       two|\n",
      "|        005|    Jack Chan| 40|60000.0|12000.0|        1|       two|\n",
      "|        006|    Jill Wong| 32|52000.0|10400.0|        1|       two|\n",
      "|        007|James Johnson| 42|70000.0|14000.0|        1|       two|\n",
      "|        008|     Kate Kim| 29|51000.0|10200.0|        1|       two|\n",
      "|        009|      Tom Tan| 33|58000.0|11600.0|        1|       two|\n",
      "|        010|     Lisa Lee| 27|47000.0| 9400.0|        1|       two|\n",
      "|        011|   David Park| 38|65000.0|13000.0|        1|       two|\n",
      "|        012|   Susan Chen| 31|54000.0|10800.0|        1|       two|\n",
      "|        013|    Brian Kim| 45|75000.0|15000.0|        1|       two|\n",
      "|        014|    Emily Lee| 26|46000.0| 9200.0|        1|       two|\n",
      "|        015|  Michael Lee| 37|63000.0|12600.0|        1|       two|\n",
      "|        016|  Kelly Zhang| 30|49000.0| 9800.0|        1|       two|\n",
      "|        017|  George Wang| 34|57000.0|11400.0|        1|       two|\n",
      "|        018|    Nancy Liu| 29|50000.0|10000.0|        1|       two|\n",
      "|        019|  Steven Chen| 36|62000.0|12400.0|        1|       two|\n",
      "|        020|    Grace Kim| 32|53000.0|10600.0|        1|       two|\n",
      "+-----------+-------------+---+-------+-------+---------+----------+\n",
      "\n"
     ]
    }
   ],
   "source": [
    "emp_2.show()"
   ]
  },
  {
   "cell_type": "code",
   "execution_count": 18,
   "id": "8f32ce39-7a1f-494c-abcd-9a9171f4dc1d",
   "metadata": {},
   "outputs": [],
   "source": [
    "# Remove Column\n",
    "\n",
    "emp_dropped = emp_new_cols.drop(\"columnTwo\", \"columnOne\")"
   ]
  },
  {
   "cell_type": "code",
   "execution_count": 19,
   "id": "1c8a94a6-1a84-4155-9663-f279101ad526",
   "metadata": {},
   "outputs": [
    {
     "name": "stdout",
     "output_type": "stream",
     "text": [
      "+-----------+-------------+---+-------+-------+\n",
      "|employee_id|         name|age| salary|    tax|\n",
      "+-----------+-------------+---+-------+-------+\n",
      "|        001|     John Doe| 30|50000.0|10000.0|\n",
      "|        002|   Jane Smith| 25|45000.0| 9000.0|\n",
      "|        003|    Bob Brown| 35|55000.0|11000.0|\n",
      "|        004|    Alice Lee| 28|48000.0| 9600.0|\n",
      "|        005|    Jack Chan| 40|60000.0|12000.0|\n",
      "|        006|    Jill Wong| 32|52000.0|10400.0|\n",
      "|        007|James Johnson| 42|70000.0|14000.0|\n",
      "|        008|     Kate Kim| 29|51000.0|10200.0|\n",
      "|        009|      Tom Tan| 33|58000.0|11600.0|\n",
      "|        010|     Lisa Lee| 27|47000.0| 9400.0|\n",
      "|        011|   David Park| 38|65000.0|13000.0|\n",
      "|        012|   Susan Chen| 31|54000.0|10800.0|\n",
      "|        013|    Brian Kim| 45|75000.0|15000.0|\n",
      "|        014|    Emily Lee| 26|46000.0| 9200.0|\n",
      "|        015|  Michael Lee| 37|63000.0|12600.0|\n",
      "|        016|  Kelly Zhang| 30|49000.0| 9800.0|\n",
      "|        017|  George Wang| 34|57000.0|11400.0|\n",
      "|        018|    Nancy Liu| 29|50000.0|10000.0|\n",
      "|        019|  Steven Chen| 36|62000.0|12400.0|\n",
      "|        020|    Grace Kim| 32|53000.0|10600.0|\n",
      "+-----------+-------------+---+-------+-------+\n",
      "\n"
     ]
    }
   ],
   "source": [
    "emp_dropped.show()"
   ]
  },
  {
   "cell_type": "code",
   "execution_count": 21,
   "id": "20502dd4-aaab-4bb4-9c47-34ca99b0a61b",
   "metadata": {},
   "outputs": [],
   "source": [
    "# Filter data \n",
    "# select employee_id as emp_id, name, age, salary, tax, columnOne from emp_col_dropped where tax > 10000\n",
    "emp_filtered = emp_dropped.where(\"tax > 10000\")"
   ]
  },
  {
   "cell_type": "code",
   "execution_count": 22,
   "id": "ad27097a-865e-48c4-97dd-7f931a733907",
   "metadata": {},
   "outputs": [
    {
     "name": "stdout",
     "output_type": "stream",
     "text": [
      "+-----------+-------------+---+-------+-------+\n",
      "|employee_id|         name|age| salary|    tax|\n",
      "+-----------+-------------+---+-------+-------+\n",
      "|        003|    Bob Brown| 35|55000.0|11000.0|\n",
      "|        005|    Jack Chan| 40|60000.0|12000.0|\n",
      "|        006|    Jill Wong| 32|52000.0|10400.0|\n",
      "|        007|James Johnson| 42|70000.0|14000.0|\n",
      "|        008|     Kate Kim| 29|51000.0|10200.0|\n",
      "|        009|      Tom Tan| 33|58000.0|11600.0|\n",
      "|        011|   David Park| 38|65000.0|13000.0|\n",
      "|        012|   Susan Chen| 31|54000.0|10800.0|\n",
      "|        013|    Brian Kim| 45|75000.0|15000.0|\n",
      "|        015|  Michael Lee| 37|63000.0|12600.0|\n",
      "|        017|  George Wang| 34|57000.0|11400.0|\n",
      "|        019|  Steven Chen| 36|62000.0|12400.0|\n",
      "|        020|    Grace Kim| 32|53000.0|10600.0|\n",
      "+-----------+-------------+---+-------+-------+\n",
      "\n"
     ]
    }
   ],
   "source": [
    "emp_filtered.show()"
   ]
  },
  {
   "cell_type": "code",
   "execution_count": 23,
   "id": "a5ee6937-5ec8-4f93-aa65-9845d05d1643",
   "metadata": {},
   "outputs": [],
   "source": [
    "# LIMIT data\n",
    "# select employee_id as emp_id, name, age, salary, tax, columnOne from emp_filtered limit 5\n",
    "emp_limited = emp_filtered.limit(5)"
   ]
  },
  {
   "cell_type": "code",
   "execution_count": 24,
   "id": "3310257c-fc13-4eb5-a16b-e8d5ca95e2b0",
   "metadata": {},
   "outputs": [
    {
     "name": "stdout",
     "output_type": "stream",
     "text": [
      "+-----------+---------+---+-------+-------+\n",
      "|employee_id|     name|age| salary|    tax|\n",
      "+-----------+---------+---+-------+-------+\n",
      "|        003|Bob Brown| 35|55000.0|11000.0|\n",
      "|        005|Jack Chan| 40|60000.0|12000.0|\n",
      "+-----------+---------+---+-------+-------+\n",
      "only showing top 2 rows\n",
      "\n"
     ]
    }
   ],
   "source": [
    "emp_limited.show(2)"
   ]
  },
  {
   "cell_type": "code",
   "execution_count": 25,
   "id": "c1222517-08d0-4ca1-a035-3f2a0645d18c",
   "metadata": {},
   "outputs": [],
   "source": [
    "# Bonus TIP\n",
    "# Add multiple columns\n",
    "\n",
    "columns = {\n",
    "    \"tax\" : col(\"salary\") * 0.2 ,\n",
    "    \"oneNumber\" : lit(1), \n",
    "    \"columnTwo\" : lit(\"two\")\n",
    "}\n",
    "\n",
    "emp_final = emp.withColumns(columns)"
   ]
  },
  {
   "cell_type": "code",
   "execution_count": 26,
   "id": "cf27617d-646d-4f9c-8d2c-72b979518734",
   "metadata": {},
   "outputs": [
    {
     "name": "stdout",
     "output_type": "stream",
     "text": [
      "+-----------+-------------+-------------+---+------+------+----------+-------+---------+---------+\n",
      "|employee_id|department_id|         name|age|gender|salary| hire_date|    tax|oneNumber|columnTwo|\n",
      "+-----------+-------------+-------------+---+------+------+----------+-------+---------+---------+\n",
      "|        001|          101|     John Doe| 30|  Male| 50000|2015-01-01|10000.0|        1|      two|\n",
      "|        002|          101|   Jane Smith| 25|Female| 45000|2016-02-15| 9000.0|        1|      two|\n",
      "|        003|          102|    Bob Brown| 35|  Male| 55000|2014-05-01|11000.0|        1|      two|\n",
      "|        004|          102|    Alice Lee| 28|Female| 48000|2017-09-30| 9600.0|        1|      two|\n",
      "|        005|          103|    Jack Chan| 40|  Male| 60000|2013-04-01|12000.0|        1|      two|\n",
      "|        006|          103|    Jill Wong| 32|Female| 52000|2018-07-01|10400.0|        1|      two|\n",
      "|        007|          101|James Johnson| 42|  Male| 70000|2012-03-15|14000.0|        1|      two|\n",
      "|        008|          102|     Kate Kim| 29|Female| 51000|2019-10-01|10200.0|        1|      two|\n",
      "|        009|          103|      Tom Tan| 33|  Male| 58000|2016-06-01|11600.0|        1|      two|\n",
      "|        010|          104|     Lisa Lee| 27|Female| 47000|2018-08-01| 9400.0|        1|      two|\n",
      "|        011|          104|   David Park| 38|  Male| 65000|2015-11-01|13000.0|        1|      two|\n",
      "|        012|          105|   Susan Chen| 31|Female| 54000|2017-02-15|10800.0|        1|      two|\n",
      "|        013|          106|    Brian Kim| 45|  Male| 75000|2011-07-01|15000.0|        1|      two|\n",
      "|        014|          107|    Emily Lee| 26|Female| 46000|2019-01-01| 9200.0|        1|      two|\n",
      "|        015|          106|  Michael Lee| 37|  Male| 63000|2014-09-30|12600.0|        1|      two|\n",
      "|        016|          107|  Kelly Zhang| 30|Female| 49000|2018-04-01| 9800.0|        1|      two|\n",
      "|        017|          105|  George Wang| 34|  Male| 57000|2016-03-15|11400.0|        1|      two|\n",
      "|        018|          104|    Nancy Liu| 29|Female| 50000|2017-06-01|10000.0|        1|      two|\n",
      "|        019|          103|  Steven Chen| 36|  Male| 62000|2015-08-01|12400.0|        1|      two|\n",
      "|        020|          102|    Grace Kim| 32|Female| 53000|2018-11-01|10600.0|        1|      two|\n",
      "+-----------+-------------+-------------+---+------+------+----------+-------+---------+---------+\n",
      "\n"
     ]
    }
   ],
   "source": [
    "emp_final.show()"
   ]
  },
  {
   "cell_type": "code",
   "execution_count": null,
   "id": "232070c2-e67f-401b-ba99-6f9b2f71e83e",
   "metadata": {},
   "outputs": [],
   "source": []
  }
 ],
 "metadata": {
  "kernelspec": {
   "display_name": "Python 3 (ipykernel)",
   "language": "python",
   "name": "python3"
  },
  "language_info": {
   "codemirror_mode": {
    "name": "ipython",
    "version": 3
   },
   "file_extension": ".py",
   "mimetype": "text/x-python",
   "name": "python",
   "nbconvert_exporter": "python",
   "pygments_lexer": "ipython3",
   "version": "3.11.9"
  }
 },
 "nbformat": 4,
 "nbformat_minor": 5
}
