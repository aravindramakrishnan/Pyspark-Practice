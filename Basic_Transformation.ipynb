{
 "cells": [
  {
   "cell_type": "code",
   "execution_count": 1,
   "id": "12aaa40e-b2dc-4a1a-afe3-996efb1b2438",
   "metadata": {},
   "outputs": [],
   "source": [
    "from pyspark.sql import SparkSession\n",
    "\n",
    "spark = SparkSession.builder.appName(\"Spark Intro\").master(\"local[*]\").getOrCreate()"
   ]
  },
  {
   "cell_type": "code",
   "execution_count": 2,
   "id": "9353613b-df4a-4091-996c-30fa46c236f0",
   "metadata": {},
   "outputs": [
    {
     "data": {
      "text/html": [
       "\n",
       "            <div>\n",
       "                <p><b>SparkSession - in-memory</b></p>\n",
       "                \n",
       "        <div>\n",
       "            <p><b>SparkContext</b></p>\n",
       "\n",
       "            <p><a href=\"http://AravindRamakrishnan:4041\">Spark UI</a></p>\n",
       "\n",
       "            <dl>\n",
       "              <dt>Version</dt>\n",
       "                <dd><code>v3.5.1</code></dd>\n",
       "              <dt>Master</dt>\n",
       "                <dd><code>local[*]</code></dd>\n",
       "              <dt>AppName</dt>\n",
       "                <dd><code>Spark Intro</code></dd>\n",
       "            </dl>\n",
       "        </div>\n",
       "        \n",
       "            </div>\n",
       "        "
      ],
      "text/plain": [
       "<pyspark.sql.session.SparkSession at 0x1e4cbf81050>"
      ]
     },
     "execution_count": 2,
     "metadata": {},
     "output_type": "execute_result"
    }
   ],
   "source": [
    "spark"
   ]
  },
  {
   "cell_type": "code",
   "execution_count": 3,
   "id": "88fffd24-da1a-4155-982e-a469fd0ca45b",
   "metadata": {},
   "outputs": [],
   "source": [
    "# Emp Data & Schema\n",
    "\n",
    "emp_data = [\n",
    "    [\"001\",\"101\",\"John Doe\",\"30\",\"Male\",\"50000\",\"2015-01-01\"],\n",
    "    [\"002\",\"101\",\"Jane Smith\",\"25\",\"Female\",\"45000\",\"2016-02-15\"],\n",
    "    [\"003\",\"102\",\"Bob Brown\",\"35\",\"Male\",\"55000\",\"2014-05-01\"],\n",
    "    [\"004\",\"102\",\"Alice Lee\",\"28\",\"Female\",\"48000\",\"2017-09-30\"],\n",
    "    [\"005\",\"103\",\"Jack Chan\",\"40\",\"Male\",\"60000\",\"2013-04-01\"],\n",
    "    [\"006\",\"103\",\"Jill Wong\",\"32\",\"Female\",\"52000\",\"2018-07-01\"],\n",
    "    [\"007\",\"101\",\"James Johnson\",\"42\",\"Male\",\"70000\",\"2012-03-15\"],\n",
    "    [\"008\",\"102\",\"Kate Kim\",\"29\",\"Female\",\"51000\",\"2019-10-01\"],\n",
    "    [\"009\",\"103\",\"Tom Tan\",\"33\",\"Male\",\"58000\",\"2016-06-01\"],\n",
    "    [\"010\",\"104\",\"Lisa Lee\",\"27\",\"Female\",\"47000\",\"2018-08-01\"],\n",
    "    [\"011\",\"104\",\"David Park\",\"38\",\"Male\",\"65000\",\"2015-11-01\"],\n",
    "    [\"012\",\"105\",\"Susan Chen\",\"31\",\"Female\",\"54000\",\"2017-02-15\"],\n",
    "    [\"013\",\"106\",\"Brian Kim\",\"45\",\"Male\",\"75000\",\"2011-07-01\"],\n",
    "    [\"014\",\"107\",\"Emily Lee\",\"26\",\"Female\",\"46000\",\"2019-01-01\"],\n",
    "    [\"015\",\"106\",\"Michael Lee\",\"37\",\"Male\",\"63000\",\"2014-09-30\"],\n",
    "    [\"016\",\"107\",\"Kelly Zhang\",\"30\",\"Female\",\"49000\",\"2018-04-01\"],\n",
    "    [\"017\",\"105\",\"George Wang\",\"34\",\"Male\",\"57000\",\"2016-03-15\"],\n",
    "    [\"018\",\"104\",\"Nancy Liu\",\"29\",\"Female\",\"50000\",\"2017-06-01\"],\n",
    "    [\"019\",\"103\",\"Steven Chen\",\"36\",\"Male\",\"62000\",\"2015-08-01\"],\n",
    "    [\"020\",\"102\",\"Grace Kim\",\"32\",\"Female\",\"53000\",\"2018-11-01\"]\n",
    "]\n",
    "\n",
    "emp_schema = \"employee_id string, department_id string, name string, age string, gender string, salary string, hire_date string\""
   ]
  },
  {
   "cell_type": "code",
   "execution_count": 4,
   "id": "89fe4ae6-70cd-4184-9ddc-76a245d8d44d",
   "metadata": {},
   "outputs": [],
   "source": [
    "# Create dataframe\n",
    "\n",
    "emp = spark.createDataFrame(data = emp_data, schema = emp_schema)"
   ]
  },
  {
   "cell_type": "code",
   "execution_count": 5,
   "id": "1ce75221-db88-4c0d-ab0c-7eae4db17458",
   "metadata": {},
   "outputs": [
    {
     "name": "stdout",
     "output_type": "stream",
     "text": [
      "+-----------+-------------+-------------+---+------+------+----------+\n",
      "|employee_id|department_id|         name|age|gender|salary| hire_date|\n",
      "+-----------+-------------+-------------+---+------+------+----------+\n",
      "|        001|          101|     John Doe| 30|  Male| 50000|2015-01-01|\n",
      "|        002|          101|   Jane Smith| 25|Female| 45000|2016-02-15|\n",
      "|        003|          102|    Bob Brown| 35|  Male| 55000|2014-05-01|\n",
      "|        004|          102|    Alice Lee| 28|Female| 48000|2017-09-30|\n",
      "|        005|          103|    Jack Chan| 40|  Male| 60000|2013-04-01|\n",
      "|        006|          103|    Jill Wong| 32|Female| 52000|2018-07-01|\n",
      "|        007|          101|James Johnson| 42|  Male| 70000|2012-03-15|\n",
      "|        008|          102|     Kate Kim| 29|Female| 51000|2019-10-01|\n",
      "|        009|          103|      Tom Tan| 33|  Male| 58000|2016-06-01|\n",
      "|        010|          104|     Lisa Lee| 27|Female| 47000|2018-08-01|\n",
      "|        011|          104|   David Park| 38|  Male| 65000|2015-11-01|\n",
      "|        012|          105|   Susan Chen| 31|Female| 54000|2017-02-15|\n",
      "|        013|          106|    Brian Kim| 45|  Male| 75000|2011-07-01|\n",
      "|        014|          107|    Emily Lee| 26|Female| 46000|2019-01-01|\n",
      "|        015|          106|  Michael Lee| 37|  Male| 63000|2014-09-30|\n",
      "|        016|          107|  Kelly Zhang| 30|Female| 49000|2018-04-01|\n",
      "|        017|          105|  George Wang| 34|  Male| 57000|2016-03-15|\n",
      "|        018|          104|    Nancy Liu| 29|Female| 50000|2017-06-01|\n",
      "|        019|          103|  Steven Chen| 36|  Male| 62000|2015-08-01|\n",
      "|        020|          102|    Grace Kim| 32|Female| 53000|2018-11-01|\n",
      "+-----------+-------------+-------------+---+------+------+----------+\n",
      "\n"
     ]
    }
   ],
   "source": [
    "# Show data (Actions)\n",
    "\n",
    "emp.show()"
   ]
  },
  {
   "cell_type": "code",
   "execution_count": 6,
   "id": "35aebab3-f4f7-40f2-8de7-ef6e5941971b",
   "metadata": {},
   "outputs": [
    {
     "name": "stdout",
     "output_type": "stream",
     "text": [
      "root\n",
      " |-- employee_id: string (nullable = true)\n",
      " |-- department_id: string (nullable = true)\n",
      " |-- name: string (nullable = true)\n",
      " |-- age: string (nullable = true)\n",
      " |-- gender: string (nullable = true)\n",
      " |-- salary: string (nullable = true)\n",
      " |-- hire_date: string (nullable = true)\n",
      "\n"
     ]
    }
   ],
   "source": [
    "emp.printSchema()"
   ]
  },
  {
   "cell_type": "code",
   "execution_count": 7,
   "id": "2d33e5bf-a0c4-4000-97c0-c90889a2ef4e",
   "metadata": {},
   "outputs": [
    {
     "data": {
      "text/plain": [
       "StructType([StructField('employee_id', StringType(), True), StructField('department_id', StringType(), True), StructField('name', StringType(), True), StructField('age', StringType(), True), StructField('gender', StringType(), True), StructField('salary', StringType(), True), StructField('hire_date', StringType(), True)])"
      ]
     },
     "execution_count": 7,
     "metadata": {},
     "output_type": "execute_result"
    }
   ],
   "source": [
    "emp.schema"
   ]
  },
  {
   "cell_type": "code",
   "execution_count": 8,
   "id": "36d4b54e-3728-41ba-b468-4812f2ef55ca",
   "metadata": {},
   "outputs": [],
   "source": [
    "# Small Example for Schema\n",
    "from pyspark.sql.types import StructType, StructField, StringType, IntegerType\n",
    "schema_string = \"name string, age int\"\n",
    "\n",
    "schema_spark =  StructType([\n",
    "    StructField(\"name\", StringType(), True),\n",
    "    StructField(\"age\", IntegerType(), True)\n",
    "])"
   ]
  },
  {
   "cell_type": "code",
   "execution_count": 12,
   "id": "9983b399-2575-417e-89b3-c2f52ebaa50d",
   "metadata": {},
   "outputs": [
    {
     "data": {
      "text/plain": [
       "Column<'salary'>"
      ]
     },
     "execution_count": 12,
     "metadata": {},
     "output_type": "execute_result"
    }
   ],
   "source": [
    "# Columns and expr\n",
    "\n",
    "from pyspark.sql.functions import col,expr\n",
    "\n",
    "emp[\"salary\"]"
   ]
  },
  {
   "cell_type": "code",
   "execution_count": 19,
   "id": "dd2ecb0e-1993-4874-8dca-3691fe48fbd3",
   "metadata": {},
   "outputs": [],
   "source": [
    "# SELECT columns\n",
    "# select employee_id, name, age, salary from emp\n",
    "\n",
    "emp_filtered = emp.select(col(\"employee_id\"), col(\"name\"), col(\"age\"), col(\"salary\"))"
   ]
  },
  {
   "cell_type": "code",
   "execution_count": 20,
   "id": "36c9e44f-2b98-47a6-a678-b65627cd08be",
   "metadata": {},
   "outputs": [
    {
     "name": "stdout",
     "output_type": "stream",
     "text": [
      "+-----------+-------------+---+------+\n",
      "|employee_id|         name|age|salary|\n",
      "+-----------+-------------+---+------+\n",
      "|        001|     John Doe| 30| 50000|\n",
      "|        002|   Jane Smith| 25| 45000|\n",
      "|        003|    Bob Brown| 35| 55000|\n",
      "|        004|    Alice Lee| 28| 48000|\n",
      "|        005|    Jack Chan| 40| 60000|\n",
      "|        006|    Jill Wong| 32| 52000|\n",
      "|        007|James Johnson| 42| 70000|\n",
      "|        008|     Kate Kim| 29| 51000|\n",
      "|        009|      Tom Tan| 33| 58000|\n",
      "|        010|     Lisa Lee| 27| 47000|\n",
      "|        011|   David Park| 38| 65000|\n",
      "|        012|   Susan Chen| 31| 54000|\n",
      "|        013|    Brian Kim| 45| 75000|\n",
      "|        014|    Emily Lee| 26| 46000|\n",
      "|        015|  Michael Lee| 37| 63000|\n",
      "|        016|  Kelly Zhang| 30| 49000|\n",
      "|        017|  George Wang| 34| 57000|\n",
      "|        018|    Nancy Liu| 29| 50000|\n",
      "|        019|  Steven Chen| 36| 62000|\n",
      "|        020|    Grace Kim| 32| 53000|\n",
      "+-----------+-------------+---+------+\n",
      "\n"
     ]
    }
   ],
   "source": [
    "emp_filtered.show()"
   ]
  },
  {
   "cell_type": "code",
   "execution_count": 21,
   "id": "9c7d7dea-e8ea-4d40-b223-18c0dbea484b",
   "metadata": {},
   "outputs": [],
   "source": [
    "# Using expr for select\n",
    "# select employee_id as emp_id, name, cast(age as int) as age, salary from emp_filtered\n",
    "\n",
    "emp_casted = emp_filtered.select(expr(\"employee_id as emp_id\"), col(\"name\"), expr(\"cast(age as int) as age\"), col(\"salary\"))"
   ]
  },
  {
   "cell_type": "code",
   "execution_count": 22,
   "id": "089bbbda-b796-47f8-97b0-7adbad270120",
   "metadata": {},
   "outputs": [
    {
     "name": "stdout",
     "output_type": "stream",
     "text": [
      "+------+-------------+---+------+\n",
      "|emp_id|         name|age|salary|\n",
      "+------+-------------+---+------+\n",
      "|   001|     John Doe| 30| 50000|\n",
      "|   002|   Jane Smith| 25| 45000|\n",
      "|   003|    Bob Brown| 35| 55000|\n",
      "|   004|    Alice Lee| 28| 48000|\n",
      "|   005|    Jack Chan| 40| 60000|\n",
      "|   006|    Jill Wong| 32| 52000|\n",
      "|   007|James Johnson| 42| 70000|\n",
      "|   008|     Kate Kim| 29| 51000|\n",
      "|   009|      Tom Tan| 33| 58000|\n",
      "|   010|     Lisa Lee| 27| 47000|\n",
      "|   011|   David Park| 38| 65000|\n",
      "|   012|   Susan Chen| 31| 54000|\n",
      "|   013|    Brian Kim| 45| 75000|\n",
      "|   014|    Emily Lee| 26| 46000|\n",
      "|   015|  Michael Lee| 37| 63000|\n",
      "|   016|  Kelly Zhang| 30| 49000|\n",
      "|   017|  George Wang| 34| 57000|\n",
      "|   018|    Nancy Liu| 29| 50000|\n",
      "|   019|  Steven Chen| 36| 62000|\n",
      "|   020|    Grace Kim| 32| 53000|\n",
      "+------+-------------+---+------+\n",
      "\n"
     ]
    }
   ],
   "source": [
    "emp_casted.show()"
   ]
  },
  {
   "cell_type": "code",
   "execution_count": 23,
   "id": "ae31abec-5de1-44c6-9b2e-076c469dd400",
   "metadata": {},
   "outputs": [],
   "source": [
    "emp_casted_1 = emp_filtered.selectExpr(\"employee_id as emp_id\", \"name\", \"cast(age as int) as age\", \"salary\")"
   ]
  },
  {
   "cell_type": "code",
   "execution_count": 24,
   "id": "a6bcd4c7-72db-4f42-9ae1-0589a75b335a",
   "metadata": {},
   "outputs": [
    {
     "name": "stdout",
     "output_type": "stream",
     "text": [
      "+------+-------------+---+------+\n",
      "|emp_id|         name|age|salary|\n",
      "+------+-------------+---+------+\n",
      "|   001|     John Doe| 30| 50000|\n",
      "|   002|   Jane Smith| 25| 45000|\n",
      "|   003|    Bob Brown| 35| 55000|\n",
      "|   004|    Alice Lee| 28| 48000|\n",
      "|   005|    Jack Chan| 40| 60000|\n",
      "|   006|    Jill Wong| 32| 52000|\n",
      "|   007|James Johnson| 42| 70000|\n",
      "|   008|     Kate Kim| 29| 51000|\n",
      "|   009|      Tom Tan| 33| 58000|\n",
      "|   010|     Lisa Lee| 27| 47000|\n",
      "|   011|   David Park| 38| 65000|\n",
      "|   012|   Susan Chen| 31| 54000|\n",
      "|   013|    Brian Kim| 45| 75000|\n",
      "|   014|    Emily Lee| 26| 46000|\n",
      "|   015|  Michael Lee| 37| 63000|\n",
      "|   016|  Kelly Zhang| 30| 49000|\n",
      "|   017|  George Wang| 34| 57000|\n",
      "|   018|    Nancy Liu| 29| 50000|\n",
      "|   019|  Steven Chen| 36| 62000|\n",
      "|   020|    Grace Kim| 32| 53000|\n",
      "+------+-------------+---+------+\n",
      "\n"
     ]
    }
   ],
   "source": [
    "emp_casted_1.show()"
   ]
  },
  {
   "cell_type": "code",
   "execution_count": 25,
   "id": "e0f7006f-98ad-422d-a96a-6a9e5f4fbfac",
   "metadata": {},
   "outputs": [
    {
     "name": "stdout",
     "output_type": "stream",
     "text": [
      "root\n",
      " |-- emp_id: string (nullable = true)\n",
      " |-- name: string (nullable = true)\n",
      " |-- age: integer (nullable = true)\n",
      " |-- salary: string (nullable = true)\n",
      "\n"
     ]
    }
   ],
   "source": [
    "emp_casted.printSchema()"
   ]
  },
  {
   "cell_type": "code",
   "execution_count": 26,
   "id": "71325840-6727-4aac-9840-d6db04f34c9d",
   "metadata": {},
   "outputs": [],
   "source": [
    "# Filter emp based on Age > 30\n",
    "# select emp_id, name, age, salary from emp_casted where age > 30\n",
    "\n",
    "emp_final = emp_casted.select(\"emp_id\", \"name\", \"age\", \"salary\").where(\"age > 30\")"
   ]
  },
  {
   "cell_type": "code",
   "execution_count": 27,
   "id": "5bfa4cc8-15e1-467e-813c-a566e482e9f1",
   "metadata": {},
   "outputs": [],
   "source": [
    "# Write the data back as CSV (ACTION)\n",
    "\n",
    "emp_final.write.format(\"csv\").save(\"./data/output/2/emp.csv\")"
   ]
  },
  {
   "cell_type": "code",
   "execution_count": 28,
   "id": "a6acfae6-3879-4521-8194-09bb831f121b",
   "metadata": {},
   "outputs": [
    {
     "data": {
      "text/plain": [
       "StructType([StructField('name', StringType(), True), StructField('age', IntegerType(), True)])"
      ]
     },
     "execution_count": 28,
     "metadata": {},
     "output_type": "execute_result"
    }
   ],
   "source": [
    "# Bonus TIP\n",
    "\n",
    "schema_str = \"name string, age int\"\n",
    "\n",
    "from pyspark.sql.types import _parse_datatype_string\n",
    "\n",
    "schema_spark = _parse_datatype_string(schema_str)\n",
    "\n",
    "schema_spark"
   ]
  },
  {
   "cell_type": "code",
   "execution_count": null,
   "id": "dc447f2d-ef0f-44e4-a2d0-2470570b68b7",
   "metadata": {},
   "outputs": [],
   "source": []
  }
 ],
 "metadata": {
  "kernelspec": {
   "display_name": "Python 3 (ipykernel)",
   "language": "python",
   "name": "python3"
  },
  "language_info": {
   "codemirror_mode": {
    "name": "ipython",
    "version": 3
   },
   "file_extension": ".py",
   "mimetype": "text/x-python",
   "name": "python",
   "nbconvert_exporter": "python",
   "pygments_lexer": "ipython3",
   "version": "3.11.9"
  }
 },
 "nbformat": 4,
 "nbformat_minor": 5
}
