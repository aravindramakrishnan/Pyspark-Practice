{
 "cells": [
  {
   "cell_type": "code",
   "execution_count": 1,
   "id": "387fb1a6-0b13-4fc0-9ce7-06b3fba22859",
   "metadata": {},
   "outputs": [],
   "source": [
    "from pyspark.sql import SparkSession\n",
    "\n",
    "spark = SparkSession.builder.appName(\"StringsAndDates\").master(\"local[*]\").getOrCreate()"
   ]
  },
  {
   "cell_type": "code",
   "execution_count": 2,
   "id": "0630a2c4-0cb3-4347-a18e-6ddf03bcfab1",
   "metadata": {},
   "outputs": [
    {
     "data": {
      "text/html": [
       "\n",
       "            <div>\n",
       "                <p><b>SparkSession - in-memory</b></p>\n",
       "                \n",
       "        <div>\n",
       "            <p><b>SparkContext</b></p>\n",
       "\n",
       "            <p><a href=\"http://AravindRamakrishnan:4043\">Spark UI</a></p>\n",
       "\n",
       "            <dl>\n",
       "              <dt>Version</dt>\n",
       "                <dd><code>v3.5.1</code></dd>\n",
       "              <dt>Master</dt>\n",
       "                <dd><code>local[*]</code></dd>\n",
       "              <dt>AppName</dt>\n",
       "                <dd><code>StringsAndDates</code></dd>\n",
       "            </dl>\n",
       "        </div>\n",
       "        \n",
       "            </div>\n",
       "        "
      ],
      "text/plain": [
       "<pyspark.sql.session.SparkSession at 0x29f7ea71250>"
      ]
     },
     "execution_count": 2,
     "metadata": {},
     "output_type": "execute_result"
    }
   ],
   "source": [
    "spark"
   ]
  },
  {
   "cell_type": "code",
   "execution_count": 11,
   "id": "6cc295d3-da8e-4283-a6e1-b97c8c6c9811",
   "metadata": {},
   "outputs": [],
   "source": [
    "# Emp Data & Schema\n",
    "\n",
    "emp_data = [\n",
    "    [\"001\",\"101\",\"John Doe\",\"30\",\"Male\",\"50000\",\"2015-01-01\"],\n",
    "    [\"002\",\"101\",\"Jane Smith\",\"25\",\"Female\",\"45000\",\"2016-02-15\"],\n",
    "    [\"003\",\"102\",\"Bob Brown\",\"35\",\"Male\",\"55000\",\"2014-05-01\"],\n",
    "    [\"004\",\"102\",\"Alice Lee\",\"28\",\"Female\",\"48000\",\"2017-09-30\"],\n",
    "    [\"005\",\"103\",\"Jack Chan\",\"40\",\"Male\",\"60000\",\"2013-04-01\"],\n",
    "    [\"006\",\"103\",\"Jill Wong\",\"32\",\"Female\",\"52000\",\"2018-07-01\"],\n",
    "    [\"007\",\"101\",\"James Johnson\",\"42\",\"Male\",\"70000\",\"2012-03-15\"],\n",
    "    [\"008\",\"102\",\"Kate Kim\",\"29\",\"Female\",\"51000\",\"2019-10-01\"],\n",
    "    [\"009\",\"103\",\"Tom Tan\",\"33\",\"Male\",\"58000\",\"2016-06-01\"],\n",
    "    [\"010\",\"104\",\"Lisa Lee\",\"27\",\"Female\",\"47000\",\"2018-08-01\"],\n",
    "    [\"011\",\"104\",\"David Park\",\"38\",\"Male\",\"65000\",\"2015-11-01\"],\n",
    "    [\"012\",\"105\",\"Susan Chen\",\"31\",\"Female\",\"54000\",\"2017-02-15\"],\n",
    "    [\"013\",\"106\",\"Brian Kim\",\"45\",\"Male\",\"75000\",\"2011-07-01\"],\n",
    "    [\"014\",\"107\",\"Emily Lee\",\"26\",\"Female\",\"46000\",\"2019-01-01\"],\n",
    "    [\"015\",\"106\",\"Michael Lee\",\"37\",\"Male\",\"63000\",\"2014-09-30\"],\n",
    "    [\"016\",\"107\",\"Kelly Zhang\",\"30\",\"Female\",\"49000\",\"2018-04-01\"],\n",
    "    [\"017\",\"105\",\"George Wang\",\"34\",\"Male\",\"57000\",\"2016-03-15\"],\n",
    "    [\"018\",\"104\",\"Nancy Liu\",\"29\",\"\",\"50000\",\"2017-06-01\"],\n",
    "    [\"019\",\"103\",\"Steven Chen\",\"36\",\"Male\",\"62000\",\"2015-08-01\"],\n",
    "    [\"020\",\"102\",\"Grace Kim\",\"32\",\"Female\",\"53000\",\"2018-11-01\"]\n",
    "]\n",
    "\n",
    "emp_schema = \"employee_id string, department_id string, name string, age string, gender string, salary string, hire_date string\""
   ]
  },
  {
   "cell_type": "code",
   "execution_count": 12,
   "id": "ab038dd2-66c2-4831-9cd5-5732c14458b2",
   "metadata": {},
   "outputs": [],
   "source": [
    "emp = spark.createDataFrame(emp_data, schema=emp_schema)"
   ]
  },
  {
   "cell_type": "code",
   "execution_count": 13,
   "id": "effbdd25-6120-4c25-b289-e9275c4c03eb",
   "metadata": {},
   "outputs": [
    {
     "name": "stdout",
     "output_type": "stream",
     "text": [
      "+-----------+-------------+-------------+---+------+------+----------+\n",
      "|employee_id|department_id|         name|age|gender|salary| hire_date|\n",
      "+-----------+-------------+-------------+---+------+------+----------+\n",
      "|        001|          101|     John Doe| 30|  Male| 50000|2015-01-01|\n",
      "|        002|          101|   Jane Smith| 25|Female| 45000|2016-02-15|\n",
      "|        003|          102|    Bob Brown| 35|  Male| 55000|2014-05-01|\n",
      "|        004|          102|    Alice Lee| 28|Female| 48000|2017-09-30|\n",
      "|        005|          103|    Jack Chan| 40|  Male| 60000|2013-04-01|\n",
      "|        006|          103|    Jill Wong| 32|Female| 52000|2018-07-01|\n",
      "|        007|          101|James Johnson| 42|  Male| 70000|2012-03-15|\n",
      "|        008|          102|     Kate Kim| 29|Female| 51000|2019-10-01|\n",
      "|        009|          103|      Tom Tan| 33|  Male| 58000|2016-06-01|\n",
      "|        010|          104|     Lisa Lee| 27|Female| 47000|2018-08-01|\n",
      "|        011|          104|   David Park| 38|  Male| 65000|2015-11-01|\n",
      "|        012|          105|   Susan Chen| 31|Female| 54000|2017-02-15|\n",
      "|        013|          106|    Brian Kim| 45|  Male| 75000|2011-07-01|\n",
      "|        014|          107|    Emily Lee| 26|Female| 46000|2019-01-01|\n",
      "|        015|          106|  Michael Lee| 37|  Male| 63000|2014-09-30|\n",
      "|        016|          107|  Kelly Zhang| 30|Female| 49000|2018-04-01|\n",
      "|        017|          105|  George Wang| 34|  Male| 57000|2016-03-15|\n",
      "|        018|          104|    Nancy Liu| 29|      | 50000|2017-06-01|\n",
      "|        019|          103|  Steven Chen| 36|  Male| 62000|2015-08-01|\n",
      "|        020|          102|    Grace Kim| 32|Female| 53000|2018-11-01|\n",
      "+-----------+-------------+-------------+---+------+------+----------+\n",
      "\n"
     ]
    }
   ],
   "source": [
    "emp.show()"
   ]
  },
  {
   "cell_type": "code",
   "execution_count": 14,
   "id": "ef017269-be4d-4115-b23c-a5135c9e5635",
   "metadata": {},
   "outputs": [
    {
     "name": "stdout",
     "output_type": "stream",
     "text": [
      "root\n",
      " |-- employee_id: string (nullable = true)\n",
      " |-- department_id: string (nullable = true)\n",
      " |-- name: string (nullable = true)\n",
      " |-- age: string (nullable = true)\n",
      " |-- gender: string (nullable = true)\n",
      " |-- salary: string (nullable = true)\n",
      " |-- hire_date: string (nullable = true)\n",
      "\n"
     ]
    }
   ],
   "source": [
    "emp.printSchema()"
   ]
  },
  {
   "cell_type": "code",
   "execution_count": 19,
   "id": "dc1456fb-1a66-448e-97c4-48ab5fffa03a",
   "metadata": {},
   "outputs": [],
   "source": [
    "# Case When\n",
    "# select employee_id, name, age, salary, gender,\n",
    "# case when gender = 'Male' then 'M' when gender = 'Female' then 'F' else null end as new_gender, hire_date from emp\n",
    "from pyspark.sql.functions import when, col, expr\n",
    "\n",
    "emp_gender_fixed = emp.withColumn(\"new_gender\", when(col(\"gender\") == \"Male\", \"M\")\n",
    "                                  .when(col(\"gender\") == \"Female\", \"F\")\n",
    "                                  .otherwise(None))\n",
    "\n",
    "emp_gender_fixed_1 = emp.withColumn(\"new_gender\", expr(\"case when gender = 'Male' then 'M' when gender = 'Female' then 'F' else null end\"))"
   ]
  },
  {
   "cell_type": "code",
   "execution_count": 16,
   "id": "f732aacf-f0f7-40ab-86ea-0e4241105093",
   "metadata": {},
   "outputs": [
    {
     "name": "stdout",
     "output_type": "stream",
     "text": [
      "+-----------+-------------+-------------+---+------+------+----------+----------+\n",
      "|employee_id|department_id|         name|age|gender|salary| hire_date|new_gender|\n",
      "+-----------+-------------+-------------+---+------+------+----------+----------+\n",
      "|        001|          101|     John Doe| 30|  Male| 50000|2015-01-01|         M|\n",
      "|        002|          101|   Jane Smith| 25|Female| 45000|2016-02-15|         F|\n",
      "|        003|          102|    Bob Brown| 35|  Male| 55000|2014-05-01|         M|\n",
      "|        004|          102|    Alice Lee| 28|Female| 48000|2017-09-30|         F|\n",
      "|        005|          103|    Jack Chan| 40|  Male| 60000|2013-04-01|         M|\n",
      "|        006|          103|    Jill Wong| 32|Female| 52000|2018-07-01|         F|\n",
      "|        007|          101|James Johnson| 42|  Male| 70000|2012-03-15|         M|\n",
      "|        008|          102|     Kate Kim| 29|Female| 51000|2019-10-01|         F|\n",
      "|        009|          103|      Tom Tan| 33|  Male| 58000|2016-06-01|         M|\n",
      "|        010|          104|     Lisa Lee| 27|Female| 47000|2018-08-01|         F|\n",
      "|        011|          104|   David Park| 38|  Male| 65000|2015-11-01|         M|\n",
      "|        012|          105|   Susan Chen| 31|Female| 54000|2017-02-15|         F|\n",
      "|        013|          106|    Brian Kim| 45|  Male| 75000|2011-07-01|         M|\n",
      "|        014|          107|    Emily Lee| 26|Female| 46000|2019-01-01|         F|\n",
      "|        015|          106|  Michael Lee| 37|  Male| 63000|2014-09-30|         M|\n",
      "|        016|          107|  Kelly Zhang| 30|Female| 49000|2018-04-01|         F|\n",
      "|        017|          105|  George Wang| 34|  Male| 57000|2016-03-15|         M|\n",
      "|        018|          104|    Nancy Liu| 29|      | 50000|2017-06-01|      NULL|\n",
      "|        019|          103|  Steven Chen| 36|  Male| 62000|2015-08-01|         M|\n",
      "|        020|          102|    Grace Kim| 32|Female| 53000|2018-11-01|         F|\n",
      "+-----------+-------------+-------------+---+------+------+----------+----------+\n",
      "\n"
     ]
    }
   ],
   "source": [
    "emp_gender_fixed.show()"
   ]
  },
  {
   "cell_type": "code",
   "execution_count": 20,
   "id": "6aac822a-e493-4d7d-9cb8-ac2b43744df3",
   "metadata": {},
   "outputs": [
    {
     "name": "stdout",
     "output_type": "stream",
     "text": [
      "+-----------+-------------+-------------+---+------+------+----------+----------+\n",
      "|employee_id|department_id|         name|age|gender|salary| hire_date|new_gender|\n",
      "+-----------+-------------+-------------+---+------+------+----------+----------+\n",
      "|        001|          101|     John Doe| 30|  Male| 50000|2015-01-01|         M|\n",
      "|        002|          101|   Jane Smith| 25|Female| 45000|2016-02-15|         F|\n",
      "|        003|          102|    Bob Brown| 35|  Male| 55000|2014-05-01|         M|\n",
      "|        004|          102|    Alice Lee| 28|Female| 48000|2017-09-30|         F|\n",
      "|        005|          103|    Jack Chan| 40|  Male| 60000|2013-04-01|         M|\n",
      "|        006|          103|    Jill Wong| 32|Female| 52000|2018-07-01|         F|\n",
      "|        007|          101|James Johnson| 42|  Male| 70000|2012-03-15|         M|\n",
      "|        008|          102|     Kate Kim| 29|Female| 51000|2019-10-01|         F|\n",
      "|        009|          103|      Tom Tan| 33|  Male| 58000|2016-06-01|         M|\n",
      "|        010|          104|     Lisa Lee| 27|Female| 47000|2018-08-01|         F|\n",
      "|        011|          104|   David Park| 38|  Male| 65000|2015-11-01|         M|\n",
      "|        012|          105|   Susan Chen| 31|Female| 54000|2017-02-15|         F|\n",
      "|        013|          106|    Brian Kim| 45|  Male| 75000|2011-07-01|         M|\n",
      "|        014|          107|    Emily Lee| 26|Female| 46000|2019-01-01|         F|\n",
      "|        015|          106|  Michael Lee| 37|  Male| 63000|2014-09-30|         M|\n",
      "|        016|          107|  Kelly Zhang| 30|Female| 49000|2018-04-01|         F|\n",
      "|        017|          105|  George Wang| 34|  Male| 57000|2016-03-15|         M|\n",
      "|        018|          104|    Nancy Liu| 29|      | 50000|2017-06-01|      NULL|\n",
      "|        019|          103|  Steven Chen| 36|  Male| 62000|2015-08-01|         M|\n",
      "|        020|          102|    Grace Kim| 32|Female| 53000|2018-11-01|         F|\n",
      "+-----------+-------------+-------------+---+------+------+----------+----------+\n",
      "\n"
     ]
    }
   ],
   "source": [
    "emp_gender_fixed_1.show()"
   ]
  },
  {
   "cell_type": "code",
   "execution_count": 21,
   "id": "79f6d0f7-588c-466c-b1a3-1f86cddbb5b7",
   "metadata": {},
   "outputs": [],
   "source": [
    "# Replace in Strings\n",
    "# select employee_id, name, replace(name, 'J', 'Z') as new_name, age, salary, gender, new_gender, hire_date from emp_gender_fixed\n",
    "from pyspark.sql.functions import regexp_replace\n",
    "\n",
    "emp_name_fixed = emp_gender_fixed.withColumn(\"new_name\", regexp_replace(col(\"name\"),\"J\",\"Z\"))"
   ]
  },
  {
   "cell_type": "code",
   "execution_count": 22,
   "id": "b2559c19-9c45-4297-9d61-e59536d1e4a5",
   "metadata": {},
   "outputs": [
    {
     "name": "stdout",
     "output_type": "stream",
     "text": [
      "+-----------+-------------+-------------+---+------+------+----------+----------+-------------+\n",
      "|employee_id|department_id|         name|age|gender|salary| hire_date|new_gender|     new_name|\n",
      "+-----------+-------------+-------------+---+------+------+----------+----------+-------------+\n",
      "|        001|          101|     John Doe| 30|  Male| 50000|2015-01-01|         M|     Zohn Doe|\n",
      "|        002|          101|   Jane Smith| 25|Female| 45000|2016-02-15|         F|   Zane Smith|\n",
      "|        003|          102|    Bob Brown| 35|  Male| 55000|2014-05-01|         M|    Bob Brown|\n",
      "|        004|          102|    Alice Lee| 28|Female| 48000|2017-09-30|         F|    Alice Lee|\n",
      "|        005|          103|    Jack Chan| 40|  Male| 60000|2013-04-01|         M|    Zack Chan|\n",
      "|        006|          103|    Jill Wong| 32|Female| 52000|2018-07-01|         F|    Zill Wong|\n",
      "|        007|          101|James Johnson| 42|  Male| 70000|2012-03-15|         M|Zames Zohnson|\n",
      "|        008|          102|     Kate Kim| 29|Female| 51000|2019-10-01|         F|     Kate Kim|\n",
      "|        009|          103|      Tom Tan| 33|  Male| 58000|2016-06-01|         M|      Tom Tan|\n",
      "|        010|          104|     Lisa Lee| 27|Female| 47000|2018-08-01|         F|     Lisa Lee|\n",
      "|        011|          104|   David Park| 38|  Male| 65000|2015-11-01|         M|   David Park|\n",
      "|        012|          105|   Susan Chen| 31|Female| 54000|2017-02-15|         F|   Susan Chen|\n",
      "|        013|          106|    Brian Kim| 45|  Male| 75000|2011-07-01|         M|    Brian Kim|\n",
      "|        014|          107|    Emily Lee| 26|Female| 46000|2019-01-01|         F|    Emily Lee|\n",
      "|        015|          106|  Michael Lee| 37|  Male| 63000|2014-09-30|         M|  Michael Lee|\n",
      "|        016|          107|  Kelly Zhang| 30|Female| 49000|2018-04-01|         F|  Kelly Zhang|\n",
      "|        017|          105|  George Wang| 34|  Male| 57000|2016-03-15|         M|  George Wang|\n",
      "|        018|          104|    Nancy Liu| 29|      | 50000|2017-06-01|      NULL|    Nancy Liu|\n",
      "|        019|          103|  Steven Chen| 36|  Male| 62000|2015-08-01|         M|  Steven Chen|\n",
      "|        020|          102|    Grace Kim| 32|Female| 53000|2018-11-01|         F|    Grace Kim|\n",
      "+-----------+-------------+-------------+---+------+------+----------+----------+-------------+\n",
      "\n"
     ]
    }
   ],
   "source": [
    "emp_name_fixed.show()"
   ]
  },
  {
   "cell_type": "code",
   "execution_count": 23,
   "id": "eef57295-4c66-4180-8d28-46572a55fe89",
   "metadata": {},
   "outputs": [],
   "source": [
    "# Convert Date\n",
    "# select *,  to_date(hire_date, 'YYYY-MM-DD') as hire_date from emp_name_fixed\n",
    "from pyspark.sql.functions import to_date\n",
    "\n",
    "emp_date_fixed = emp_name_fixed.withColumn(\"hire_date\", to_date(col(\"hire_date\"), 'yyyy-MM-dd'))"
   ]
  },
  {
   "cell_type": "code",
   "execution_count": 24,
   "id": "d311dcfd-13bf-4491-9275-fa3ca751e1cf",
   "metadata": {},
   "outputs": [
    {
     "name": "stdout",
     "output_type": "stream",
     "text": [
      "root\n",
      " |-- employee_id: string (nullable = true)\n",
      " |-- department_id: string (nullable = true)\n",
      " |-- name: string (nullable = true)\n",
      " |-- age: string (nullable = true)\n",
      " |-- gender: string (nullable = true)\n",
      " |-- salary: string (nullable = true)\n",
      " |-- hire_date: date (nullable = true)\n",
      " |-- new_gender: string (nullable = true)\n",
      " |-- new_name: string (nullable = true)\n",
      "\n"
     ]
    }
   ],
   "source": [
    "emp_date_fixed.printSchema()"
   ]
  },
  {
   "cell_type": "code",
   "execution_count": 25,
   "id": "3070a05f-0213-4a57-9b71-82811cbf9bb2",
   "metadata": {},
   "outputs": [],
   "source": [
    "# Add Date Columns\n",
    "# Add current_date, current_timestamp, extract year from hire_date\n",
    "from pyspark.sql.functions import current_date, current_timestamp\n",
    "\n",
    "emp_dated = emp_date_fixed.withColumn(\"date_now\", current_date()).withColumn(\"timestamp_now\", current_timestamp())"
   ]
  },
  {
   "cell_type": "code",
   "execution_count": 26,
   "id": "1ec81370-d98e-435f-9976-a16d22ff3e50",
   "metadata": {},
   "outputs": [
    {
     "name": "stdout",
     "output_type": "stream",
     "text": [
      "+-----------+-------------+-------------+---+------+------+----------+----------+-------------+----------+--------------------------+\n",
      "|employee_id|department_id|name         |age|gender|salary|hire_date |new_gender|new_name     |date_now  |timestamp_now             |\n",
      "+-----------+-------------+-------------+---+------+------+----------+----------+-------------+----------+--------------------------+\n",
      "|001        |101          |John Doe     |30 |Male  |50000 |2015-01-01|M         |Zohn Doe     |2024-06-29|2024-06-29 09:21:25.967799|\n",
      "|002        |101          |Jane Smith   |25 |Female|45000 |2016-02-15|F         |Zane Smith   |2024-06-29|2024-06-29 09:21:25.967799|\n",
      "|003        |102          |Bob Brown    |35 |Male  |55000 |2014-05-01|M         |Bob Brown    |2024-06-29|2024-06-29 09:21:25.967799|\n",
      "|004        |102          |Alice Lee    |28 |Female|48000 |2017-09-30|F         |Alice Lee    |2024-06-29|2024-06-29 09:21:25.967799|\n",
      "|005        |103          |Jack Chan    |40 |Male  |60000 |2013-04-01|M         |Zack Chan    |2024-06-29|2024-06-29 09:21:25.967799|\n",
      "|006        |103          |Jill Wong    |32 |Female|52000 |2018-07-01|F         |Zill Wong    |2024-06-29|2024-06-29 09:21:25.967799|\n",
      "|007        |101          |James Johnson|42 |Male  |70000 |2012-03-15|M         |Zames Zohnson|2024-06-29|2024-06-29 09:21:25.967799|\n",
      "|008        |102          |Kate Kim     |29 |Female|51000 |2019-10-01|F         |Kate Kim     |2024-06-29|2024-06-29 09:21:25.967799|\n",
      "|009        |103          |Tom Tan      |33 |Male  |58000 |2016-06-01|M         |Tom Tan      |2024-06-29|2024-06-29 09:21:25.967799|\n",
      "|010        |104          |Lisa Lee     |27 |Female|47000 |2018-08-01|F         |Lisa Lee     |2024-06-29|2024-06-29 09:21:25.967799|\n",
      "|011        |104          |David Park   |38 |Male  |65000 |2015-11-01|M         |David Park   |2024-06-29|2024-06-29 09:21:25.967799|\n",
      "|012        |105          |Susan Chen   |31 |Female|54000 |2017-02-15|F         |Susan Chen   |2024-06-29|2024-06-29 09:21:25.967799|\n",
      "|013        |106          |Brian Kim    |45 |Male  |75000 |2011-07-01|M         |Brian Kim    |2024-06-29|2024-06-29 09:21:25.967799|\n",
      "|014        |107          |Emily Lee    |26 |Female|46000 |2019-01-01|F         |Emily Lee    |2024-06-29|2024-06-29 09:21:25.967799|\n",
      "|015        |106          |Michael Lee  |37 |Male  |63000 |2014-09-30|M         |Michael Lee  |2024-06-29|2024-06-29 09:21:25.967799|\n",
      "|016        |107          |Kelly Zhang  |30 |Female|49000 |2018-04-01|F         |Kelly Zhang  |2024-06-29|2024-06-29 09:21:25.967799|\n",
      "|017        |105          |George Wang  |34 |Male  |57000 |2016-03-15|M         |George Wang  |2024-06-29|2024-06-29 09:21:25.967799|\n",
      "|018        |104          |Nancy Liu    |29 |      |50000 |2017-06-01|NULL      |Nancy Liu    |2024-06-29|2024-06-29 09:21:25.967799|\n",
      "|019        |103          |Steven Chen  |36 |Male  |62000 |2015-08-01|M         |Steven Chen  |2024-06-29|2024-06-29 09:21:25.967799|\n",
      "|020        |102          |Grace Kim    |32 |Female|53000 |2018-11-01|F         |Grace Kim    |2024-06-29|2024-06-29 09:21:25.967799|\n",
      "+-----------+-------------+-------------+---+------+------+----------+----------+-------------+----------+--------------------------+\n",
      "\n"
     ]
    }
   ],
   "source": [
    "emp_dated.show(truncate= False)"
   ]
  },
  {
   "cell_type": "code",
   "execution_count": 27,
   "id": "d4d52008-032b-4936-898f-b4fd05992273",
   "metadata": {},
   "outputs": [],
   "source": [
    "# Drop Null gender records\n",
    "emp_1 = emp_dated.na.drop()"
   ]
  },
  {
   "cell_type": "code",
   "execution_count": 28,
   "id": "79536920-3edb-4c9d-9e43-a78b81f75b76",
   "metadata": {},
   "outputs": [
    {
     "name": "stdout",
     "output_type": "stream",
     "text": [
      "+-----------+-------------+-------------+---+------+------+----------+----------+-------------+----------+--------------------+\n",
      "|employee_id|department_id|         name|age|gender|salary| hire_date|new_gender|     new_name|  date_now|       timestamp_now|\n",
      "+-----------+-------------+-------------+---+------+------+----------+----------+-------------+----------+--------------------+\n",
      "|        001|          101|     John Doe| 30|  Male| 50000|2015-01-01|         M|     Zohn Doe|2024-06-29|2024-06-29 09:22:...|\n",
      "|        002|          101|   Jane Smith| 25|Female| 45000|2016-02-15|         F|   Zane Smith|2024-06-29|2024-06-29 09:22:...|\n",
      "|        003|          102|    Bob Brown| 35|  Male| 55000|2014-05-01|         M|    Bob Brown|2024-06-29|2024-06-29 09:22:...|\n",
      "|        004|          102|    Alice Lee| 28|Female| 48000|2017-09-30|         F|    Alice Lee|2024-06-29|2024-06-29 09:22:...|\n",
      "|        005|          103|    Jack Chan| 40|  Male| 60000|2013-04-01|         M|    Zack Chan|2024-06-29|2024-06-29 09:22:...|\n",
      "|        006|          103|    Jill Wong| 32|Female| 52000|2018-07-01|         F|    Zill Wong|2024-06-29|2024-06-29 09:22:...|\n",
      "|        007|          101|James Johnson| 42|  Male| 70000|2012-03-15|         M|Zames Zohnson|2024-06-29|2024-06-29 09:22:...|\n",
      "|        008|          102|     Kate Kim| 29|Female| 51000|2019-10-01|         F|     Kate Kim|2024-06-29|2024-06-29 09:22:...|\n",
      "|        009|          103|      Tom Tan| 33|  Male| 58000|2016-06-01|         M|      Tom Tan|2024-06-29|2024-06-29 09:22:...|\n",
      "|        010|          104|     Lisa Lee| 27|Female| 47000|2018-08-01|         F|     Lisa Lee|2024-06-29|2024-06-29 09:22:...|\n",
      "|        011|          104|   David Park| 38|  Male| 65000|2015-11-01|         M|   David Park|2024-06-29|2024-06-29 09:22:...|\n",
      "|        012|          105|   Susan Chen| 31|Female| 54000|2017-02-15|         F|   Susan Chen|2024-06-29|2024-06-29 09:22:...|\n",
      "|        013|          106|    Brian Kim| 45|  Male| 75000|2011-07-01|         M|    Brian Kim|2024-06-29|2024-06-29 09:22:...|\n",
      "|        014|          107|    Emily Lee| 26|Female| 46000|2019-01-01|         F|    Emily Lee|2024-06-29|2024-06-29 09:22:...|\n",
      "|        015|          106|  Michael Lee| 37|  Male| 63000|2014-09-30|         M|  Michael Lee|2024-06-29|2024-06-29 09:22:...|\n",
      "|        016|          107|  Kelly Zhang| 30|Female| 49000|2018-04-01|         F|  Kelly Zhang|2024-06-29|2024-06-29 09:22:...|\n",
      "|        017|          105|  George Wang| 34|  Male| 57000|2016-03-15|         M|  George Wang|2024-06-29|2024-06-29 09:22:...|\n",
      "|        019|          103|  Steven Chen| 36|  Male| 62000|2015-08-01|         M|  Steven Chen|2024-06-29|2024-06-29 09:22:...|\n",
      "|        020|          102|    Grace Kim| 32|Female| 53000|2018-11-01|         F|    Grace Kim|2024-06-29|2024-06-29 09:22:...|\n",
      "+-----------+-------------+-------------+---+------+------+----------+----------+-------------+----------+--------------------+\n",
      "\n"
     ]
    }
   ],
   "source": [
    "emp_1.show()"
   ]
  },
  {
   "cell_type": "code",
   "execution_count": 29,
   "id": "bf7189da-3cab-4cbb-82ae-cb22d69d0795",
   "metadata": {},
   "outputs": [],
   "source": [
    "# Fix Null values\n",
    "# select *, nvl('new_gender', 'O') as new_gender from emp_dated\n",
    "from pyspark.sql.functions import coalesce, lit\n",
    "\n",
    "emp_null_df = emp_dated.withColumn(\"new_gender\", coalesce(col(\"new_gender\"), lit(\"O\")))"
   ]
  },
  {
   "cell_type": "code",
   "execution_count": 30,
   "id": "150a4a31-9758-4c94-9735-c7404571b2ba",
   "metadata": {},
   "outputs": [
    {
     "name": "stdout",
     "output_type": "stream",
     "text": [
      "+-----------+-------------+-------------+---+------+------+----------+----------+-------------+----------+--------------------+\n",
      "|employee_id|department_id|         name|age|gender|salary| hire_date|new_gender|     new_name|  date_now|       timestamp_now|\n",
      "+-----------+-------------+-------------+---+------+------+----------+----------+-------------+----------+--------------------+\n",
      "|        001|          101|     John Doe| 30|  Male| 50000|2015-01-01|         M|     Zohn Doe|2024-06-29|2024-06-29 09:27:...|\n",
      "|        002|          101|   Jane Smith| 25|Female| 45000|2016-02-15|         F|   Zane Smith|2024-06-29|2024-06-29 09:27:...|\n",
      "|        003|          102|    Bob Brown| 35|  Male| 55000|2014-05-01|         M|    Bob Brown|2024-06-29|2024-06-29 09:27:...|\n",
      "|        004|          102|    Alice Lee| 28|Female| 48000|2017-09-30|         F|    Alice Lee|2024-06-29|2024-06-29 09:27:...|\n",
      "|        005|          103|    Jack Chan| 40|  Male| 60000|2013-04-01|         M|    Zack Chan|2024-06-29|2024-06-29 09:27:...|\n",
      "|        006|          103|    Jill Wong| 32|Female| 52000|2018-07-01|         F|    Zill Wong|2024-06-29|2024-06-29 09:27:...|\n",
      "|        007|          101|James Johnson| 42|  Male| 70000|2012-03-15|         M|Zames Zohnson|2024-06-29|2024-06-29 09:27:...|\n",
      "|        008|          102|     Kate Kim| 29|Female| 51000|2019-10-01|         F|     Kate Kim|2024-06-29|2024-06-29 09:27:...|\n",
      "|        009|          103|      Tom Tan| 33|  Male| 58000|2016-06-01|         M|      Tom Tan|2024-06-29|2024-06-29 09:27:...|\n",
      "|        010|          104|     Lisa Lee| 27|Female| 47000|2018-08-01|         F|     Lisa Lee|2024-06-29|2024-06-29 09:27:...|\n",
      "|        011|          104|   David Park| 38|  Male| 65000|2015-11-01|         M|   David Park|2024-06-29|2024-06-29 09:27:...|\n",
      "|        012|          105|   Susan Chen| 31|Female| 54000|2017-02-15|         F|   Susan Chen|2024-06-29|2024-06-29 09:27:...|\n",
      "|        013|          106|    Brian Kim| 45|  Male| 75000|2011-07-01|         M|    Brian Kim|2024-06-29|2024-06-29 09:27:...|\n",
      "|        014|          107|    Emily Lee| 26|Female| 46000|2019-01-01|         F|    Emily Lee|2024-06-29|2024-06-29 09:27:...|\n",
      "|        015|          106|  Michael Lee| 37|  Male| 63000|2014-09-30|         M|  Michael Lee|2024-06-29|2024-06-29 09:27:...|\n",
      "|        016|          107|  Kelly Zhang| 30|Female| 49000|2018-04-01|         F|  Kelly Zhang|2024-06-29|2024-06-29 09:27:...|\n",
      "|        017|          105|  George Wang| 34|  Male| 57000|2016-03-15|         M|  George Wang|2024-06-29|2024-06-29 09:27:...|\n",
      "|        018|          104|    Nancy Liu| 29|      | 50000|2017-06-01|         O|    Nancy Liu|2024-06-29|2024-06-29 09:27:...|\n",
      "|        019|          103|  Steven Chen| 36|  Male| 62000|2015-08-01|         M|  Steven Chen|2024-06-29|2024-06-29 09:27:...|\n",
      "|        020|          102|    Grace Kim| 32|Female| 53000|2018-11-01|         F|    Grace Kim|2024-06-29|2024-06-29 09:27:...|\n",
      "+-----------+-------------+-------------+---+------+------+----------+----------+-------------+----------+--------------------+\n",
      "\n"
     ]
    }
   ],
   "source": [
    "emp_null_df.show()"
   ]
  },
  {
   "cell_type": "code",
   "execution_count": 31,
   "id": "7b35cb2d-9871-4d23-b9a1-00b2fd1d41d0",
   "metadata": {},
   "outputs": [],
   "source": [
    "# Drop old columns and Fix new column names\n",
    "emp_final = emp_null_df.drop(\"name\", \"gender\").withColumnRenamed(\"new_name\", \"name\").withColumnRenamed(\"new_gender\",\"gender\")"
   ]
  },
  {
   "cell_type": "code",
   "execution_count": 32,
   "id": "30b0d924-e673-4731-962e-f14e5bff9557",
   "metadata": {},
   "outputs": [
    {
     "name": "stdout",
     "output_type": "stream",
     "text": [
      "+-----------+-------------+---+------+----------+------+-------------+----------+--------------------+\n",
      "|employee_id|department_id|age|salary| hire_date|gender|         name|  date_now|       timestamp_now|\n",
      "+-----------+-------------+---+------+----------+------+-------------+----------+--------------------+\n",
      "|        001|          101| 30| 50000|2015-01-01|     M|     Zohn Doe|2024-06-29|2024-06-29 09:30:...|\n",
      "|        002|          101| 25| 45000|2016-02-15|     F|   Zane Smith|2024-06-29|2024-06-29 09:30:...|\n",
      "|        003|          102| 35| 55000|2014-05-01|     M|    Bob Brown|2024-06-29|2024-06-29 09:30:...|\n",
      "|        004|          102| 28| 48000|2017-09-30|     F|    Alice Lee|2024-06-29|2024-06-29 09:30:...|\n",
      "|        005|          103| 40| 60000|2013-04-01|     M|    Zack Chan|2024-06-29|2024-06-29 09:30:...|\n",
      "|        006|          103| 32| 52000|2018-07-01|     F|    Zill Wong|2024-06-29|2024-06-29 09:30:...|\n",
      "|        007|          101| 42| 70000|2012-03-15|     M|Zames Zohnson|2024-06-29|2024-06-29 09:30:...|\n",
      "|        008|          102| 29| 51000|2019-10-01|     F|     Kate Kim|2024-06-29|2024-06-29 09:30:...|\n",
      "|        009|          103| 33| 58000|2016-06-01|     M|      Tom Tan|2024-06-29|2024-06-29 09:30:...|\n",
      "|        010|          104| 27| 47000|2018-08-01|     F|     Lisa Lee|2024-06-29|2024-06-29 09:30:...|\n",
      "|        011|          104| 38| 65000|2015-11-01|     M|   David Park|2024-06-29|2024-06-29 09:30:...|\n",
      "|        012|          105| 31| 54000|2017-02-15|     F|   Susan Chen|2024-06-29|2024-06-29 09:30:...|\n",
      "|        013|          106| 45| 75000|2011-07-01|     M|    Brian Kim|2024-06-29|2024-06-29 09:30:...|\n",
      "|        014|          107| 26| 46000|2019-01-01|     F|    Emily Lee|2024-06-29|2024-06-29 09:30:...|\n",
      "|        015|          106| 37| 63000|2014-09-30|     M|  Michael Lee|2024-06-29|2024-06-29 09:30:...|\n",
      "|        016|          107| 30| 49000|2018-04-01|     F|  Kelly Zhang|2024-06-29|2024-06-29 09:30:...|\n",
      "|        017|          105| 34| 57000|2016-03-15|     M|  George Wang|2024-06-29|2024-06-29 09:30:...|\n",
      "|        018|          104| 29| 50000|2017-06-01|     O|    Nancy Liu|2024-06-29|2024-06-29 09:30:...|\n",
      "|        019|          103| 36| 62000|2015-08-01|     M|  Steven Chen|2024-06-29|2024-06-29 09:30:...|\n",
      "|        020|          102| 32| 53000|2018-11-01|     F|    Grace Kim|2024-06-29|2024-06-29 09:30:...|\n",
      "+-----------+-------------+---+------+----------+------+-------------+----------+--------------------+\n",
      "\n"
     ]
    }
   ],
   "source": [
    "emp_final.show()"
   ]
  },
  {
   "cell_type": "code",
   "execution_count": 33,
   "id": "ba560df7-d015-4c68-ae25-800630009776",
   "metadata": {},
   "outputs": [],
   "source": [
    "# Write data as CSV\n",
    "emp_final.write.format(\"csv\").save(\"./data/output/4/emp.csv\")"
   ]
  },
  {
   "cell_type": "code",
   "execution_count": 34,
   "id": "91e63189-15c3-47fa-88d8-36a2df7c8322",
   "metadata": {},
   "outputs": [],
   "source": [
    "# Bonus TIP\n",
    "# Convert date into String and extract date information\n",
    "from pyspark.sql.functions import date_format\n",
    "\n",
    "emp_fixed = emp_final.withColumn(\"date_zone\", date_format(col(\"timestamp_now\"), \"z\"))"
   ]
  },
  {
   "cell_type": "code",
   "execution_count": 35,
   "id": "08cf525c-4ce2-4d25-aea1-3aeba6f2bf75",
   "metadata": {},
   "outputs": [
    {
     "name": "stdout",
     "output_type": "stream",
     "text": [
      "+-----------+-------------+---+------+----------+------+-------------+----------+--------------------+---------+\n",
      "|employee_id|department_id|age|salary| hire_date|gender|         name|  date_now|       timestamp_now|date_zone|\n",
      "+-----------+-------------+---+------+----------+------+-------------+----------+--------------------+---------+\n",
      "|        001|          101| 30| 50000|2015-01-01|     M|     Zohn Doe|2024-06-29|2024-06-29 09:35:...|      IST|\n",
      "|        002|          101| 25| 45000|2016-02-15|     F|   Zane Smith|2024-06-29|2024-06-29 09:35:...|      IST|\n",
      "|        003|          102| 35| 55000|2014-05-01|     M|    Bob Brown|2024-06-29|2024-06-29 09:35:...|      IST|\n",
      "|        004|          102| 28| 48000|2017-09-30|     F|    Alice Lee|2024-06-29|2024-06-29 09:35:...|      IST|\n",
      "|        005|          103| 40| 60000|2013-04-01|     M|    Zack Chan|2024-06-29|2024-06-29 09:35:...|      IST|\n",
      "|        006|          103| 32| 52000|2018-07-01|     F|    Zill Wong|2024-06-29|2024-06-29 09:35:...|      IST|\n",
      "|        007|          101| 42| 70000|2012-03-15|     M|Zames Zohnson|2024-06-29|2024-06-29 09:35:...|      IST|\n",
      "|        008|          102| 29| 51000|2019-10-01|     F|     Kate Kim|2024-06-29|2024-06-29 09:35:...|      IST|\n",
      "|        009|          103| 33| 58000|2016-06-01|     M|      Tom Tan|2024-06-29|2024-06-29 09:35:...|      IST|\n",
      "|        010|          104| 27| 47000|2018-08-01|     F|     Lisa Lee|2024-06-29|2024-06-29 09:35:...|      IST|\n",
      "|        011|          104| 38| 65000|2015-11-01|     M|   David Park|2024-06-29|2024-06-29 09:35:...|      IST|\n",
      "|        012|          105| 31| 54000|2017-02-15|     F|   Susan Chen|2024-06-29|2024-06-29 09:35:...|      IST|\n",
      "|        013|          106| 45| 75000|2011-07-01|     M|    Brian Kim|2024-06-29|2024-06-29 09:35:...|      IST|\n",
      "|        014|          107| 26| 46000|2019-01-01|     F|    Emily Lee|2024-06-29|2024-06-29 09:35:...|      IST|\n",
      "|        015|          106| 37| 63000|2014-09-30|     M|  Michael Lee|2024-06-29|2024-06-29 09:35:...|      IST|\n",
      "|        016|          107| 30| 49000|2018-04-01|     F|  Kelly Zhang|2024-06-29|2024-06-29 09:35:...|      IST|\n",
      "|        017|          105| 34| 57000|2016-03-15|     M|  George Wang|2024-06-29|2024-06-29 09:35:...|      IST|\n",
      "|        018|          104| 29| 50000|2017-06-01|     O|    Nancy Liu|2024-06-29|2024-06-29 09:35:...|      IST|\n",
      "|        019|          103| 36| 62000|2015-08-01|     M|  Steven Chen|2024-06-29|2024-06-29 09:35:...|      IST|\n",
      "|        020|          102| 32| 53000|2018-11-01|     F|    Grace Kim|2024-06-29|2024-06-29 09:35:...|      IST|\n",
      "+-----------+-------------+---+------+----------+------+-------------+----------+--------------------+---------+\n",
      "\n"
     ]
    }
   ],
   "source": [
    "emp_fixed.show()"
   ]
  },
  {
   "cell_type": "code",
   "execution_count": 36,
   "id": "c509e35e-1a9b-4578-a5dd-69f00bea8443",
   "metadata": {},
   "outputs": [],
   "source": [
    "emp_fixed = emp_fixed.withColumn(\"date_string\", date_format(col(\"hire_date\"), \"dd/MM/yyyy\"))"
   ]
  },
  {
   "cell_type": "code",
   "execution_count": 37,
   "id": "b57049d4-1c0d-4d8e-a091-940e111f2d8d",
   "metadata": {},
   "outputs": [
    {
     "name": "stdout",
     "output_type": "stream",
     "text": [
      "+-----------+-------------+---+------+----------+------+-------------+----------+--------------------+---------+-----------+\n",
      "|employee_id|department_id|age|salary| hire_date|gender|         name|  date_now|       timestamp_now|date_zone|date_string|\n",
      "+-----------+-------------+---+------+----------+------+-------------+----------+--------------------+---------+-----------+\n",
      "|        001|          101| 30| 50000|2015-01-01|     M|     Zohn Doe|2024-06-29|2024-06-29 09:37:...|      IST| 01/01/2015|\n",
      "|        002|          101| 25| 45000|2016-02-15|     F|   Zane Smith|2024-06-29|2024-06-29 09:37:...|      IST| 15/02/2016|\n",
      "|        003|          102| 35| 55000|2014-05-01|     M|    Bob Brown|2024-06-29|2024-06-29 09:37:...|      IST| 01/05/2014|\n",
      "|        004|          102| 28| 48000|2017-09-30|     F|    Alice Lee|2024-06-29|2024-06-29 09:37:...|      IST| 30/09/2017|\n",
      "|        005|          103| 40| 60000|2013-04-01|     M|    Zack Chan|2024-06-29|2024-06-29 09:37:...|      IST| 01/04/2013|\n",
      "|        006|          103| 32| 52000|2018-07-01|     F|    Zill Wong|2024-06-29|2024-06-29 09:37:...|      IST| 01/07/2018|\n",
      "|        007|          101| 42| 70000|2012-03-15|     M|Zames Zohnson|2024-06-29|2024-06-29 09:37:...|      IST| 15/03/2012|\n",
      "|        008|          102| 29| 51000|2019-10-01|     F|     Kate Kim|2024-06-29|2024-06-29 09:37:...|      IST| 01/10/2019|\n",
      "|        009|          103| 33| 58000|2016-06-01|     M|      Tom Tan|2024-06-29|2024-06-29 09:37:...|      IST| 01/06/2016|\n",
      "|        010|          104| 27| 47000|2018-08-01|     F|     Lisa Lee|2024-06-29|2024-06-29 09:37:...|      IST| 01/08/2018|\n",
      "|        011|          104| 38| 65000|2015-11-01|     M|   David Park|2024-06-29|2024-06-29 09:37:...|      IST| 01/11/2015|\n",
      "|        012|          105| 31| 54000|2017-02-15|     F|   Susan Chen|2024-06-29|2024-06-29 09:37:...|      IST| 15/02/2017|\n",
      "|        013|          106| 45| 75000|2011-07-01|     M|    Brian Kim|2024-06-29|2024-06-29 09:37:...|      IST| 01/07/2011|\n",
      "|        014|          107| 26| 46000|2019-01-01|     F|    Emily Lee|2024-06-29|2024-06-29 09:37:...|      IST| 01/01/2019|\n",
      "|        015|          106| 37| 63000|2014-09-30|     M|  Michael Lee|2024-06-29|2024-06-29 09:37:...|      IST| 30/09/2014|\n",
      "|        016|          107| 30| 49000|2018-04-01|     F|  Kelly Zhang|2024-06-29|2024-06-29 09:37:...|      IST| 01/04/2018|\n",
      "|        017|          105| 34| 57000|2016-03-15|     M|  George Wang|2024-06-29|2024-06-29 09:37:...|      IST| 15/03/2016|\n",
      "|        018|          104| 29| 50000|2017-06-01|     O|    Nancy Liu|2024-06-29|2024-06-29 09:37:...|      IST| 01/06/2017|\n",
      "|        019|          103| 36| 62000|2015-08-01|     M|  Steven Chen|2024-06-29|2024-06-29 09:37:...|      IST| 01/08/2015|\n",
      "|        020|          102| 32| 53000|2018-11-01|     F|    Grace Kim|2024-06-29|2024-06-29 09:37:...|      IST| 01/11/2018|\n",
      "+-----------+-------------+---+------+----------+------+-------------+----------+--------------------+---------+-----------+\n",
      "\n"
     ]
    }
   ],
   "source": [
    "emp_fixed.show()"
   ]
  },
  {
   "cell_type": "code",
   "execution_count": 38,
   "id": "82d27538-3526-4659-b66b-84198461a4cf",
   "metadata": {},
   "outputs": [],
   "source": [
    "emp_fixed = emp_fixed.withColumn(\"date_year\", date_format(col(\"hire_date\"),\"yyyy\"))"
   ]
  },
  {
   "cell_type": "code",
   "execution_count": 39,
   "id": "39babcfd-64c8-44e6-bf48-84c26a3460e3",
   "metadata": {},
   "outputs": [
    {
     "name": "stdout",
     "output_type": "stream",
     "text": [
      "+-----------+-------------+---+------+----------+------+-------------+----------+--------------------+---------+-----------+---------+\n",
      "|employee_id|department_id|age|salary| hire_date|gender|         name|  date_now|       timestamp_now|date_zone|date_string|date_year|\n",
      "+-----------+-------------+---+------+----------+------+-------------+----------+--------------------+---------+-----------+---------+\n",
      "|        001|          101| 30| 50000|2015-01-01|     M|     Zohn Doe|2024-06-29|2024-06-29 09:38:...|      IST| 01/01/2015|     2015|\n",
      "|        002|          101| 25| 45000|2016-02-15|     F|   Zane Smith|2024-06-29|2024-06-29 09:38:...|      IST| 15/02/2016|     2016|\n",
      "|        003|          102| 35| 55000|2014-05-01|     M|    Bob Brown|2024-06-29|2024-06-29 09:38:...|      IST| 01/05/2014|     2014|\n",
      "|        004|          102| 28| 48000|2017-09-30|     F|    Alice Lee|2024-06-29|2024-06-29 09:38:...|      IST| 30/09/2017|     2017|\n",
      "|        005|          103| 40| 60000|2013-04-01|     M|    Zack Chan|2024-06-29|2024-06-29 09:38:...|      IST| 01/04/2013|     2013|\n",
      "|        006|          103| 32| 52000|2018-07-01|     F|    Zill Wong|2024-06-29|2024-06-29 09:38:...|      IST| 01/07/2018|     2018|\n",
      "|        007|          101| 42| 70000|2012-03-15|     M|Zames Zohnson|2024-06-29|2024-06-29 09:38:...|      IST| 15/03/2012|     2012|\n",
      "|        008|          102| 29| 51000|2019-10-01|     F|     Kate Kim|2024-06-29|2024-06-29 09:38:...|      IST| 01/10/2019|     2019|\n",
      "|        009|          103| 33| 58000|2016-06-01|     M|      Tom Tan|2024-06-29|2024-06-29 09:38:...|      IST| 01/06/2016|     2016|\n",
      "|        010|          104| 27| 47000|2018-08-01|     F|     Lisa Lee|2024-06-29|2024-06-29 09:38:...|      IST| 01/08/2018|     2018|\n",
      "|        011|          104| 38| 65000|2015-11-01|     M|   David Park|2024-06-29|2024-06-29 09:38:...|      IST| 01/11/2015|     2015|\n",
      "|        012|          105| 31| 54000|2017-02-15|     F|   Susan Chen|2024-06-29|2024-06-29 09:38:...|      IST| 15/02/2017|     2017|\n",
      "|        013|          106| 45| 75000|2011-07-01|     M|    Brian Kim|2024-06-29|2024-06-29 09:38:...|      IST| 01/07/2011|     2011|\n",
      "|        014|          107| 26| 46000|2019-01-01|     F|    Emily Lee|2024-06-29|2024-06-29 09:38:...|      IST| 01/01/2019|     2019|\n",
      "|        015|          106| 37| 63000|2014-09-30|     M|  Michael Lee|2024-06-29|2024-06-29 09:38:...|      IST| 30/09/2014|     2014|\n",
      "|        016|          107| 30| 49000|2018-04-01|     F|  Kelly Zhang|2024-06-29|2024-06-29 09:38:...|      IST| 01/04/2018|     2018|\n",
      "|        017|          105| 34| 57000|2016-03-15|     M|  George Wang|2024-06-29|2024-06-29 09:38:...|      IST| 15/03/2016|     2016|\n",
      "|        018|          104| 29| 50000|2017-06-01|     O|    Nancy Liu|2024-06-29|2024-06-29 09:38:...|      IST| 01/06/2017|     2017|\n",
      "|        019|          103| 36| 62000|2015-08-01|     M|  Steven Chen|2024-06-29|2024-06-29 09:38:...|      IST| 01/08/2015|     2015|\n",
      "|        020|          102| 32| 53000|2018-11-01|     F|    Grace Kim|2024-06-29|2024-06-29 09:38:...|      IST| 01/11/2018|     2018|\n",
      "+-----------+-------------+---+------+----------+------+-------------+----------+--------------------+---------+-----------+---------+\n",
      "\n"
     ]
    }
   ],
   "source": [
    "emp_fixed.show()"
   ]
  },
  {
   "cell_type": "code",
   "execution_count": 41,
   "id": "fad5967b-f22a-42de-b169-89589ce26762",
   "metadata": {},
   "outputs": [],
   "source": [
    "emp_fixed = emp_fixed.withColumn(\"date_month\", date_format(col(\"hire_date\"), \"MM\"))"
   ]
  },
  {
   "cell_type": "code",
   "execution_count": 42,
   "id": "ea4f4c25-7d5e-460c-8a5f-76709f7fd708",
   "metadata": {},
   "outputs": [
    {
     "name": "stdout",
     "output_type": "stream",
     "text": [
      "+-----------+-------------+---+------+----------+------+-------------+----------+--------------------+---------+-----------+---------+----------+\n",
      "|employee_id|department_id|age|salary| hire_date|gender|         name|  date_now|       timestamp_now|date_zone|date_string|date_year|date_month|\n",
      "+-----------+-------------+---+------+----------+------+-------------+----------+--------------------+---------+-----------+---------+----------+\n",
      "|        001|          101| 30| 50000|2015-01-01|     M|     Zohn Doe|2024-06-29|2024-06-29 09:39:...|      IST| 01/01/2015|     2015|        01|\n",
      "|        002|          101| 25| 45000|2016-02-15|     F|   Zane Smith|2024-06-29|2024-06-29 09:39:...|      IST| 15/02/2016|     2016|        02|\n",
      "|        003|          102| 35| 55000|2014-05-01|     M|    Bob Brown|2024-06-29|2024-06-29 09:39:...|      IST| 01/05/2014|     2014|        05|\n",
      "|        004|          102| 28| 48000|2017-09-30|     F|    Alice Lee|2024-06-29|2024-06-29 09:39:...|      IST| 30/09/2017|     2017|        09|\n",
      "|        005|          103| 40| 60000|2013-04-01|     M|    Zack Chan|2024-06-29|2024-06-29 09:39:...|      IST| 01/04/2013|     2013|        04|\n",
      "|        006|          103| 32| 52000|2018-07-01|     F|    Zill Wong|2024-06-29|2024-06-29 09:39:...|      IST| 01/07/2018|     2018|        07|\n",
      "|        007|          101| 42| 70000|2012-03-15|     M|Zames Zohnson|2024-06-29|2024-06-29 09:39:...|      IST| 15/03/2012|     2012|        03|\n",
      "|        008|          102| 29| 51000|2019-10-01|     F|     Kate Kim|2024-06-29|2024-06-29 09:39:...|      IST| 01/10/2019|     2019|        10|\n",
      "|        009|          103| 33| 58000|2016-06-01|     M|      Tom Tan|2024-06-29|2024-06-29 09:39:...|      IST| 01/06/2016|     2016|        06|\n",
      "|        010|          104| 27| 47000|2018-08-01|     F|     Lisa Lee|2024-06-29|2024-06-29 09:39:...|      IST| 01/08/2018|     2018|        08|\n",
      "|        011|          104| 38| 65000|2015-11-01|     M|   David Park|2024-06-29|2024-06-29 09:39:...|      IST| 01/11/2015|     2015|        11|\n",
      "|        012|          105| 31| 54000|2017-02-15|     F|   Susan Chen|2024-06-29|2024-06-29 09:39:...|      IST| 15/02/2017|     2017|        02|\n",
      "|        013|          106| 45| 75000|2011-07-01|     M|    Brian Kim|2024-06-29|2024-06-29 09:39:...|      IST| 01/07/2011|     2011|        07|\n",
      "|        014|          107| 26| 46000|2019-01-01|     F|    Emily Lee|2024-06-29|2024-06-29 09:39:...|      IST| 01/01/2019|     2019|        01|\n",
      "|        015|          106| 37| 63000|2014-09-30|     M|  Michael Lee|2024-06-29|2024-06-29 09:39:...|      IST| 30/09/2014|     2014|        09|\n",
      "|        016|          107| 30| 49000|2018-04-01|     F|  Kelly Zhang|2024-06-29|2024-06-29 09:39:...|      IST| 01/04/2018|     2018|        04|\n",
      "|        017|          105| 34| 57000|2016-03-15|     M|  George Wang|2024-06-29|2024-06-29 09:39:...|      IST| 15/03/2016|     2016|        03|\n",
      "|        018|          104| 29| 50000|2017-06-01|     O|    Nancy Liu|2024-06-29|2024-06-29 09:39:...|      IST| 01/06/2017|     2017|        06|\n",
      "|        019|          103| 36| 62000|2015-08-01|     M|  Steven Chen|2024-06-29|2024-06-29 09:39:...|      IST| 01/08/2015|     2015|        08|\n",
      "|        020|          102| 32| 53000|2018-11-01|     F|    Grace Kim|2024-06-29|2024-06-29 09:39:...|      IST| 01/11/2018|     2018|        11|\n",
      "+-----------+-------------+---+------+----------+------+-------------+----------+--------------------+---------+-----------+---------+----------+\n",
      "\n"
     ]
    }
   ],
   "source": [
    "emp_fixed.show()"
   ]
  },
  {
   "cell_type": "code",
   "execution_count": null,
   "id": "eaea3f03-7ae9-4f5d-a7de-e69482051d84",
   "metadata": {},
   "outputs": [],
   "source": []
  }
 ],
 "metadata": {
  "kernelspec": {
   "display_name": "Python 3 (ipykernel)",
   "language": "python",
   "name": "python3"
  },
  "language_info": {
   "codemirror_mode": {
    "name": "ipython",
    "version": 3
   },
   "file_extension": ".py",
   "mimetype": "text/x-python",
   "name": "python",
   "nbconvert_exporter": "python",
   "pygments_lexer": "ipython3",
   "version": "3.11.9"
  }
 },
 "nbformat": 4,
 "nbformat_minor": 5
}
