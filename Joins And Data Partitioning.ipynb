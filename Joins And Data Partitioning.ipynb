{
 "cells": [
  {
   "cell_type": "code",
   "execution_count": 1,
   "id": "5d0c4c08-97a1-464a-8c1c-b5781b2319d1",
   "metadata": {},
   "outputs": [
    {
     "data": {
      "text/html": [
       "\n",
       "            <div>\n",
       "                <p><b>SparkSession - in-memory</b></p>\n",
       "                \n",
       "        <div>\n",
       "            <p><b>SparkContext</b></p>\n",
       "\n",
       "            <p><a href=\"http://AravindRamakrishnan:4046\">Spark UI</a></p>\n",
       "\n",
       "            <dl>\n",
       "              <dt>Version</dt>\n",
       "                <dd><code>v3.5.1</code></dd>\n",
       "              <dt>Master</dt>\n",
       "                <dd><code>local[*]</code></dd>\n",
       "              <dt>AppName</dt>\n",
       "                <dd><code>Joins and Data Partitions</code></dd>\n",
       "            </dl>\n",
       "        </div>\n",
       "        \n",
       "            </div>\n",
       "        "
      ],
      "text/plain": [
       "<pyspark.sql.session.SparkSession at 0x1c6574e1690>"
      ]
     },
     "execution_count": 1,
     "metadata": {},
     "output_type": "execute_result"
    }
   ],
   "source": [
    "# Spark Session\n",
    "from pyspark.sql import SparkSession\n",
    "\n",
    "spark = (\n",
    "    SparkSession\n",
    "    .builder\n",
    "    .appName(\"Joins and Data Partitions\")\n",
    "    .master(\"local[*]\")\n",
    "    .getOrCreate()\n",
    ")\n",
    "\n",
    "spark"
   ]
  },
  {
   "cell_type": "code",
   "execution_count": 2,
   "id": "ad08c0af-fb09-4a26-91d9-b05bbfc3058d",
   "metadata": {},
   "outputs": [],
   "source": [
    "# Emp Data & Schema\n",
    "\n",
    "emp_data = [\n",
    "    [\"001\",\"101\",\"John Doe\",\"30\",\"Male\",\"50000\",\"2015-01-01\"],\n",
    "    [\"002\",\"101\",\"Jane Smith\",\"25\",\"Female\",\"45000\",\"2016-02-15\"],\n",
    "    [\"003\",\"102\",\"Bob Brown\",\"35\",\"Male\",\"55000\",\"2014-05-01\"],\n",
    "    [\"004\",\"102\",\"Alice Lee\",\"28\",\"Female\",\"48000\",\"2017-09-30\"],\n",
    "    [\"005\",\"103\",\"Jack Chan\",\"40\",\"Male\",\"60000\",\"2013-04-01\"],\n",
    "    [\"006\",\"103\",\"Jill Wong\",\"32\",\"Female\",\"52000\",\"2018-07-01\"],\n",
    "    [\"007\",\"101\",\"James Johnson\",\"42\",\"Male\",\"70000\",\"2012-03-15\"],\n",
    "    [\"008\",\"102\",\"Kate Kim\",\"29\",\"Female\",\"51000\",\"2019-10-01\"],\n",
    "    [\"009\",\"103\",\"Tom Tan\",\"33\",\"Male\",\"58000\",\"2016-06-01\"],\n",
    "    [\"010\",\"104\",\"Lisa Lee\",\"27\",\"Female\",\"47000\",\"2018-08-01\"],\n",
    "    [\"011\",\"104\",\"David Park\",\"38\",\"Male\",\"65000\",\"2015-11-01\"],\n",
    "    [\"012\",\"105\",\"Susan Chen\",\"31\",\"Female\",\"54000\",\"2017-02-15\"],\n",
    "    [\"013\",\"106\",\"Brian Kim\",\"45\",\"Male\",\"75000\",\"2011-07-01\"],\n",
    "    [\"014\",\"107\",\"Emily Lee\",\"26\",\"Female\",\"46000\",\"2019-01-01\"],\n",
    "    [\"015\",\"106\",\"Michael Lee\",\"37\",\"Male\",\"63000\",\"2014-09-30\"],\n",
    "    [\"016\",\"107\",\"Kelly Zhang\",\"30\",\"Female\",\"49000\",\"2018-04-01\"],\n",
    "    [\"017\",\"105\",\"George Wang\",\"34\",\"Male\",\"57000\",\"2016-03-15\"],\n",
    "    [\"018\",\"104\",\"Nancy Liu\",\"29\",\"\",\"50000\",\"2017-06-01\"],\n",
    "    [\"019\",\"103\",\"Steven Chen\",\"36\",\"Male\",\"62000\",\"2015-08-01\"],\n",
    "    [\"020\",\"102\",\"Grace Kim\",\"32\",\"Female\",\"53000\",\"2018-11-01\"]\n",
    "]\n",
    "\n",
    "emp_schema = \"employee_id string, department_id string, name string, age string, gender string, salary string, hire_date string\"\n",
    "\n",
    "dept_data = [\n",
    "    [\"101\", \"Sales\", \"NYC\", \"US\", \"1000000\"],\n",
    "    [\"102\", \"Marketing\", \"LA\", \"US\", \"900000\"],\n",
    "    [\"103\", \"Finance\", \"London\", \"UK\", \"1200000\"],\n",
    "    [\"104\", \"Engineering\", \"Beijing\", \"China\", \"1500000\"],\n",
    "    [\"105\", \"Human Resources\", \"Tokyo\", \"Japan\", \"800000\"],\n",
    "    [\"106\", \"Research and Development\", \"Perth\", \"Australia\", \"1100000\"],\n",
    "    [\"107\", \"Customer Service\", \"Sydney\", \"Australia\", \"950000\"]\n",
    "]\n",
    "\n",
    "dept_schema = \"department_id string, department_name string, city string, country string, budget string\""
   ]
  },
  {
   "cell_type": "code",
   "execution_count": 3,
   "id": "304fc384-27be-4591-8a6f-d5fa3a6b3190",
   "metadata": {},
   "outputs": [],
   "source": [
    "# Create emp & dept DataFrame\n",
    "\n",
    "emp = spark.createDataFrame(data=emp_data, schema=emp_schema)\n",
    "dept = spark.createDataFrame(data=dept_data, schema=dept_schema)"
   ]
  },
  {
   "cell_type": "code",
   "execution_count": 4,
   "id": "0c4794e5-25d2-4128-bc2d-db3db227165e",
   "metadata": {},
   "outputs": [
    {
     "name": "stdout",
     "output_type": "stream",
     "text": [
      "+-----------+-------------+-------------+---+------+------+----------+\n",
      "|employee_id|department_id|         name|age|gender|salary| hire_date|\n",
      "+-----------+-------------+-------------+---+------+------+----------+\n",
      "|        001|          101|     John Doe| 30|  Male| 50000|2015-01-01|\n",
      "|        002|          101|   Jane Smith| 25|Female| 45000|2016-02-15|\n",
      "|        003|          102|    Bob Brown| 35|  Male| 55000|2014-05-01|\n",
      "|        004|          102|    Alice Lee| 28|Female| 48000|2017-09-30|\n",
      "|        005|          103|    Jack Chan| 40|  Male| 60000|2013-04-01|\n",
      "|        006|          103|    Jill Wong| 32|Female| 52000|2018-07-01|\n",
      "|        007|          101|James Johnson| 42|  Male| 70000|2012-03-15|\n",
      "|        008|          102|     Kate Kim| 29|Female| 51000|2019-10-01|\n",
      "|        009|          103|      Tom Tan| 33|  Male| 58000|2016-06-01|\n",
      "|        010|          104|     Lisa Lee| 27|Female| 47000|2018-08-01|\n",
      "|        011|          104|   David Park| 38|  Male| 65000|2015-11-01|\n",
      "|        012|          105|   Susan Chen| 31|Female| 54000|2017-02-15|\n",
      "|        013|          106|    Brian Kim| 45|  Male| 75000|2011-07-01|\n",
      "|        014|          107|    Emily Lee| 26|Female| 46000|2019-01-01|\n",
      "|        015|          106|  Michael Lee| 37|  Male| 63000|2014-09-30|\n",
      "|        016|          107|  Kelly Zhang| 30|Female| 49000|2018-04-01|\n",
      "|        017|          105|  George Wang| 34|  Male| 57000|2016-03-15|\n",
      "|        018|          104|    Nancy Liu| 29|      | 50000|2017-06-01|\n",
      "|        019|          103|  Steven Chen| 36|  Male| 62000|2015-08-01|\n",
      "|        020|          102|    Grace Kim| 32|Female| 53000|2018-11-01|\n",
      "+-----------+-------------+-------------+---+------+------+----------+\n",
      "\n",
      "+-------------+--------------------+-------+---------+-------+\n",
      "|department_id|     department_name|   city|  country| budget|\n",
      "+-------------+--------------------+-------+---------+-------+\n",
      "|          101|               Sales|    NYC|       US|1000000|\n",
      "|          102|           Marketing|     LA|       US| 900000|\n",
      "|          103|             Finance| London|       UK|1200000|\n",
      "|          104|         Engineering|Beijing|    China|1500000|\n",
      "|          105|     Human Resources|  Tokyo|    Japan| 800000|\n",
      "|          106|Research and Deve...|  Perth|Australia|1100000|\n",
      "|          107|    Customer Service| Sydney|Australia| 950000|\n",
      "+-------------+--------------------+-------+---------+-------+\n",
      "\n"
     ]
    }
   ],
   "source": [
    "# Show emp dataframe (ACTION)\n",
    "\n",
    "emp.show()\n",
    "dept.show()"
   ]
  },
  {
   "cell_type": "code",
   "execution_count": 5,
   "id": "380fd759-30fa-49b4-bccf-15d2d12f9f5f",
   "metadata": {},
   "outputs": [
    {
     "name": "stdout",
     "output_type": "stream",
     "text": [
      "root\n",
      " |-- employee_id: string (nullable = true)\n",
      " |-- department_id: string (nullable = true)\n",
      " |-- name: string (nullable = true)\n",
      " |-- age: string (nullable = true)\n",
      " |-- gender: string (nullable = true)\n",
      " |-- salary: string (nullable = true)\n",
      " |-- hire_date: string (nullable = true)\n",
      "\n",
      "root\n",
      " |-- department_id: string (nullable = true)\n",
      " |-- department_name: string (nullable = true)\n",
      " |-- city: string (nullable = true)\n",
      " |-- country: string (nullable = true)\n",
      " |-- budget: string (nullable = true)\n",
      "\n"
     ]
    }
   ],
   "source": [
    "# Print Schema\n",
    "\n",
    "emp.printSchema()\n",
    "dept.printSchema()"
   ]
  },
  {
   "cell_type": "code",
   "execution_count": 6,
   "id": "cfd9b436-8fbd-46b2-a368-6b16863aa43d",
   "metadata": {},
   "outputs": [
    {
     "data": {
      "text/plain": [
       "16"
      ]
     },
     "execution_count": 6,
     "metadata": {},
     "output_type": "execute_result"
    }
   ],
   "source": [
    "# Get number of partitions for emp\n",
    "emp.rdd.getNumPartitions()"
   ]
  },
  {
   "cell_type": "code",
   "execution_count": 7,
   "id": "a2e90c6a-4f63-4eb6-a7e2-a9fa068d1947",
   "metadata": {},
   "outputs": [
    {
     "data": {
      "text/plain": [
       "16"
      ]
     },
     "execution_count": 7,
     "metadata": {},
     "output_type": "execute_result"
    }
   ],
   "source": [
    "# Get number of partitions for dept\n",
    "dept.rdd.getNumPartitions()"
   ]
  },
  {
   "cell_type": "code",
   "execution_count": 16,
   "id": "af5eec80-09a7-41e4-b602-e8b630fa84b9",
   "metadata": {},
   "outputs": [],
   "source": [
    "# Repartition of data using repartition & coalesce\n",
    "\n",
    "emp_partitioned = emp.repartition(4, \"department_id\")"
   ]
  },
  {
   "cell_type": "code",
   "execution_count": 17,
   "id": "224f7904-3c9b-4579-83f0-2647d64e1c57",
   "metadata": {},
   "outputs": [
    {
     "data": {
      "text/plain": [
       "4"
      ]
     },
     "execution_count": 17,
     "metadata": {},
     "output_type": "execute_result"
    }
   ],
   "source": [
    "emp_partitioned.rdd.getNumPartitions()"
   ]
  },
  {
   "cell_type": "code",
   "execution_count": 22,
   "id": "c9c64dc7-7992-4439-b61d-81e791b63390",
   "metadata": {},
   "outputs": [],
   "source": [
    "# Find the partition info for partitions and reparition\n",
    "from pyspark.sql.functions import spark_partition_id\n",
    "\n",
    "emp_1 = emp.repartition(4, \"department_id\").withColumn(\"partition_num\", spark_partition_id())"
   ]
  },
  {
   "cell_type": "code",
   "execution_count": 23,
   "id": "2aeeb69f-5b27-47bf-a022-dcf574158d38",
   "metadata": {},
   "outputs": [
    {
     "name": "stdout",
     "output_type": "stream",
     "text": [
      "+-----------+-------------+-------------+---+------+------+----------+-------------+\n",
      "|employee_id|department_id|         name|age|gender|salary| hire_date|partition_num|\n",
      "+-----------+-------------+-------------+---+------+------+----------+-------------+\n",
      "|        003|          102|    Bob Brown| 35|  Male| 55000|2014-05-01|            0|\n",
      "|        004|          102|    Alice Lee| 28|Female| 48000|2017-09-30|            0|\n",
      "|        008|          102|     Kate Kim| 29|Female| 51000|2019-10-01|            0|\n",
      "|        014|          107|    Emily Lee| 26|Female| 46000|2019-01-01|            0|\n",
      "|        016|          107|  Kelly Zhang| 30|Female| 49000|2018-04-01|            0|\n",
      "|        020|          102|    Grace Kim| 32|Female| 53000|2018-11-01|            0|\n",
      "|        012|          105|   Susan Chen| 31|Female| 54000|2017-02-15|            1|\n",
      "|        017|          105|  George Wang| 34|  Male| 57000|2016-03-15|            1|\n",
      "|        010|          104|     Lisa Lee| 27|Female| 47000|2018-08-01|            2|\n",
      "|        011|          104|   David Park| 38|  Male| 65000|2015-11-01|            2|\n",
      "|        013|          106|    Brian Kim| 45|  Male| 75000|2011-07-01|            2|\n",
      "|        015|          106|  Michael Lee| 37|  Male| 63000|2014-09-30|            2|\n",
      "|        018|          104|    Nancy Liu| 29|      | 50000|2017-06-01|            2|\n",
      "|        001|          101|     John Doe| 30|  Male| 50000|2015-01-01|            3|\n",
      "|        002|          101|   Jane Smith| 25|Female| 45000|2016-02-15|            3|\n",
      "|        005|          103|    Jack Chan| 40|  Male| 60000|2013-04-01|            3|\n",
      "|        006|          103|    Jill Wong| 32|Female| 52000|2018-07-01|            3|\n",
      "|        007|          101|James Johnson| 42|  Male| 70000|2012-03-15|            3|\n",
      "|        009|          103|      Tom Tan| 33|  Male| 58000|2016-06-01|            3|\n",
      "|        019|          103|  Steven Chen| 36|  Male| 62000|2015-08-01|            3|\n",
      "+-----------+-------------+-------------+---+------+------+----------+-------------+\n",
      "\n"
     ]
    }
   ],
   "source": [
    "emp_1.show()"
   ]
  },
  {
   "cell_type": "code",
   "execution_count": 28,
   "id": "83f8927a-a63d-422e-a738-96ae2722ee03",
   "metadata": {},
   "outputs": [],
   "source": [
    "# INNER JOIN datasets\n",
    "# select e.emp_name, d.department_name, d.department_id, e.salary \n",
    "# from emp e inner join dept d on emp.department_id = dept.department_id\n",
    "\n",
    "df_joined = emp.alias(\"e\").join(dept.alias(\"d\"), how=\"inner\", on=emp.department_id==dept.department_id)"
   ]
  },
  {
   "cell_type": "code",
   "execution_count": 29,
   "id": "ea563421-7d61-4df2-ae02-41b3ccfa599d",
   "metadata": {},
   "outputs": [
    {
     "name": "stdout",
     "output_type": "stream",
     "text": [
      "+-------------+-------------+--------------------+------+\n",
      "|         name|department_id|     department_name|salary|\n",
      "+-------------+-------------+--------------------+------+\n",
      "|     John Doe|          101|               Sales| 50000|\n",
      "|   Jane Smith|          101|               Sales| 45000|\n",
      "|James Johnson|          101|               Sales| 70000|\n",
      "|    Bob Brown|          102|           Marketing| 55000|\n",
      "|    Alice Lee|          102|           Marketing| 48000|\n",
      "|     Kate Kim|          102|           Marketing| 51000|\n",
      "|    Grace Kim|          102|           Marketing| 53000|\n",
      "|    Jack Chan|          103|             Finance| 60000|\n",
      "|    Jill Wong|          103|             Finance| 52000|\n",
      "|      Tom Tan|          103|             Finance| 58000|\n",
      "|  Steven Chen|          103|             Finance| 62000|\n",
      "|     Lisa Lee|          104|         Engineering| 47000|\n",
      "|   David Park|          104|         Engineering| 65000|\n",
      "|    Nancy Liu|          104|         Engineering| 50000|\n",
      "|   Susan Chen|          105|     Human Resources| 54000|\n",
      "|  George Wang|          105|     Human Resources| 57000|\n",
      "|    Brian Kim|          106|Research and Deve...| 75000|\n",
      "|  Michael Lee|          106|Research and Deve...| 63000|\n",
      "|    Emily Lee|          107|    Customer Service| 46000|\n",
      "|  Kelly Zhang|          107|    Customer Service| 49000|\n",
      "+-------------+-------------+--------------------+------+\n",
      "\n"
     ]
    }
   ],
   "source": [
    "df_joined.select(\"e.name\", \"d.department_id\", \"d.department_name\", \"e.salary\").show()"
   ]
  },
  {
   "cell_type": "code",
   "execution_count": 31,
   "id": "7e47f8cc-82b6-43bc-9589-86958ae30d2b",
   "metadata": {},
   "outputs": [],
   "source": [
    "# LEFT OUTER JOIN datasets\n",
    "# select e.emp_name, d.department_name, d.department_id, e.salary \n",
    "# from emp e left outer join dept d on emp.department_id = dept.department_id\n",
    "\n",
    "df_joined_1 = emp.alias(\"e\").join(dept.alias(\"d\"), how=\"left_outer\", on=emp.department_id == dept.department_id)"
   ]
  },
  {
   "cell_type": "code",
   "execution_count": 32,
   "id": "21bc1620-f16f-4b64-9604-3cfc771373da",
   "metadata": {},
   "outputs": [
    {
     "name": "stdout",
     "output_type": "stream",
     "text": [
      "+-------------+-------------+--------------------+------+\n",
      "|         name|department_id|     department_name|salary|\n",
      "+-------------+-------------+--------------------+------+\n",
      "|     John Doe|          101|               Sales| 50000|\n",
      "|   Jane Smith|          101|               Sales| 45000|\n",
      "|    Bob Brown|          102|           Marketing| 55000|\n",
      "|    Alice Lee|          102|           Marketing| 48000|\n",
      "|    Jack Chan|          103|             Finance| 60000|\n",
      "|    Jill Wong|          103|             Finance| 52000|\n",
      "|James Johnson|          101|               Sales| 70000|\n",
      "|     Kate Kim|          102|           Marketing| 51000|\n",
      "|     Lisa Lee|          104|         Engineering| 47000|\n",
      "|      Tom Tan|          103|             Finance| 58000|\n",
      "|   David Park|          104|         Engineering| 65000|\n",
      "|   Susan Chen|          105|     Human Resources| 54000|\n",
      "|    Brian Kim|          106|Research and Deve...| 75000|\n",
      "|    Emily Lee|          107|    Customer Service| 46000|\n",
      "|  Michael Lee|          106|Research and Deve...| 63000|\n",
      "|  Kelly Zhang|          107|    Customer Service| 49000|\n",
      "|  George Wang|          105|     Human Resources| 57000|\n",
      "|    Nancy Liu|          104|         Engineering| 50000|\n",
      "|    Grace Kim|          102|           Marketing| 53000|\n",
      "|  Steven Chen|          103|             Finance| 62000|\n",
      "+-------------+-------------+--------------------+------+\n",
      "\n"
     ]
    }
   ],
   "source": [
    "df_joined_1.select(\"e.name\", \"d.department_id\", \"d.department_name\", \"e.salary\").show()"
   ]
  },
  {
   "cell_type": "code",
   "execution_count": 33,
   "id": "306f3983-6bd3-4d64-a158-f8c044779f1b",
   "metadata": {},
   "outputs": [],
   "source": [
    "# Write the final dataset\n",
    "df_joined.select(\"e.name\", \"d.department_name\", \"d.department_id\",\"e.salary\").write.format(\"csv\").save(\"./data/output/7/emp_joined.csv\")"
   ]
  },
  {
   "cell_type": "code",
   "execution_count": 40,
   "id": "79e07cc3-bd2a-4c9b-b1f3-689ad279316c",
   "metadata": {},
   "outputs": [],
   "source": [
    "# Bonus TIP\n",
    "# Joins with cascading conditions\n",
    "# Join with Department_id and only for departments 101 or 102\n",
    "# Join with not null/null conditions\n",
    "\n",
    "df_final = emp.join(dept, how=\"left_outer\", \n",
    "                   on=(emp.department_id==dept.department_id) & ((emp.department_id == \"101\") | (emp.department_id == \"102\"))\n",
    "                    & (dept.department_id.isNotNull())\n",
    "                   )"
   ]
  },
  {
   "cell_type": "code",
   "execution_count": 41,
   "id": "60e9a86f-abd3-44d9-8091-addd50e375c2",
   "metadata": {},
   "outputs": [
    {
     "name": "stdout",
     "output_type": "stream",
     "text": [
      "+-----------+-------------+-------------+---+------+------+----------+-------------+---------------+----+-------+-------+\n",
      "|employee_id|department_id|         name|age|gender|salary| hire_date|department_id|department_name|city|country| budget|\n",
      "+-----------+-------------+-------------+---+------+------+----------+-------------+---------------+----+-------+-------+\n",
      "|        001|          101|     John Doe| 30|  Male| 50000|2015-01-01|          101|          Sales| NYC|     US|1000000|\n",
      "|        002|          101|   Jane Smith| 25|Female| 45000|2016-02-15|          101|          Sales| NYC|     US|1000000|\n",
      "|        003|          102|    Bob Brown| 35|  Male| 55000|2014-05-01|          102|      Marketing|  LA|     US| 900000|\n",
      "|        004|          102|    Alice Lee| 28|Female| 48000|2017-09-30|          102|      Marketing|  LA|     US| 900000|\n",
      "|        005|          103|    Jack Chan| 40|  Male| 60000|2013-04-01|         NULL|           NULL|NULL|   NULL|   NULL|\n",
      "|        006|          103|    Jill Wong| 32|Female| 52000|2018-07-01|         NULL|           NULL|NULL|   NULL|   NULL|\n",
      "|        007|          101|James Johnson| 42|  Male| 70000|2012-03-15|          101|          Sales| NYC|     US|1000000|\n",
      "|        008|          102|     Kate Kim| 29|Female| 51000|2019-10-01|          102|      Marketing|  LA|     US| 900000|\n",
      "|        010|          104|     Lisa Lee| 27|Female| 47000|2018-08-01|         NULL|           NULL|NULL|   NULL|   NULL|\n",
      "|        009|          103|      Tom Tan| 33|  Male| 58000|2016-06-01|         NULL|           NULL|NULL|   NULL|   NULL|\n",
      "|        011|          104|   David Park| 38|  Male| 65000|2015-11-01|         NULL|           NULL|NULL|   NULL|   NULL|\n",
      "|        012|          105|   Susan Chen| 31|Female| 54000|2017-02-15|         NULL|           NULL|NULL|   NULL|   NULL|\n",
      "|        013|          106|    Brian Kim| 45|  Male| 75000|2011-07-01|         NULL|           NULL|NULL|   NULL|   NULL|\n",
      "|        014|          107|    Emily Lee| 26|Female| 46000|2019-01-01|         NULL|           NULL|NULL|   NULL|   NULL|\n",
      "|        015|          106|  Michael Lee| 37|  Male| 63000|2014-09-30|         NULL|           NULL|NULL|   NULL|   NULL|\n",
      "|        016|          107|  Kelly Zhang| 30|Female| 49000|2018-04-01|         NULL|           NULL|NULL|   NULL|   NULL|\n",
      "|        017|          105|  George Wang| 34|  Male| 57000|2016-03-15|         NULL|           NULL|NULL|   NULL|   NULL|\n",
      "|        018|          104|    Nancy Liu| 29|      | 50000|2017-06-01|         NULL|           NULL|NULL|   NULL|   NULL|\n",
      "|        020|          102|    Grace Kim| 32|Female| 53000|2018-11-01|          102|      Marketing|  LA|     US| 900000|\n",
      "|        019|          103|  Steven Chen| 36|  Male| 62000|2015-08-01|         NULL|           NULL|NULL|   NULL|   NULL|\n",
      "+-----------+-------------+-------------+---+------+------+----------+-------------+---------------+----+-------+-------+\n",
      "\n"
     ]
    }
   ],
   "source": [
    "df_final.show()"
   ]
  },
  {
   "cell_type": "code",
   "execution_count": null,
   "id": "1b9b64fa-6eee-4737-817f-ad9f956d4f8c",
   "metadata": {},
   "outputs": [],
   "source": []
  }
 ],
 "metadata": {
  "kernelspec": {
   "display_name": "Python 3 (ipykernel)",
   "language": "python",
   "name": "python3"
  },
  "language_info": {
   "codemirror_mode": {
    "name": "ipython",
    "version": 3
   },
   "file_extension": ".py",
   "mimetype": "text/x-python",
   "name": "python",
   "nbconvert_exporter": "python",
   "pygments_lexer": "ipython3",
   "version": "3.11.9"
  }
 },
 "nbformat": 4,
 "nbformat_minor": 5
}
